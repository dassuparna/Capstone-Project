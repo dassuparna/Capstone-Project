{
 "cells": [
  {
   "cell_type": "code",
   "execution_count": 1,
   "metadata": {},
   "outputs": [],
   "source": [
    "import numpy as np\n",
    "import pandas as pd"
   ]
  },
  {
   "cell_type": "code",
   "execution_count": 2,
   "metadata": {},
   "outputs": [
    {
     "name": "stdout",
     "output_type": "stream",
     "text": [
      "C:\\Users\\dassu\n"
     ]
    }
   ],
   "source": [
    "import os\n",
    "#Get the Current Directory\n",
    "directory_path = os.getcwd()\n",
    "print(directory_path)\n"
   ]
  },
  {
   "cell_type": "code",
   "execution_count": 3,
   "metadata": {},
   "outputs": [
    {
     "name": "stdout",
     "output_type": "stream",
     "text": [
      "C:\\Users\\dassu\\NewData\n"
     ]
    }
   ],
   "source": [
    "# Data Folder Name\n",
    "data_folder = os.path.join(directory_path, \"NewData\")\n",
    "print(data_folder)"
   ]
  },
  {
   "cell_type": "code",
   "execution_count": 4,
   "metadata": {},
   "outputs": [],
   "source": [
    "#Assign Edu File Name\n",
    "filename = \"EducationData.csv\""
   ]
  },
  {
   "cell_type": "code",
   "execution_count": 5,
   "metadata": {},
   "outputs": [
    {
     "name": "stdout",
     "output_type": "stream",
     "text": [
      "C:\\Users\\dassu\\NewData\\EducationData.csv\n"
     ]
    }
   ],
   "source": [
    "#Get the full file name including directory\n",
    "fullfilename = os.path.join(data_folder, filename)\n",
    "print(fullfilename)"
   ]
  },
  {
   "cell_type": "code",
   "execution_count": 6,
   "metadata": {},
   "outputs": [],
   "source": [
    "#Load Edu Data\n",
    "edu = pd.read_csv(fullfilename)"
   ]
  },
  {
   "cell_type": "code",
   "execution_count": 7,
   "metadata": {},
   "outputs": [
    {
     "data": {
      "text/html": [
       "<div>\n",
       "<style scoped>\n",
       "    .dataframe tbody tr th:only-of-type {\n",
       "        vertical-align: middle;\n",
       "    }\n",
       "\n",
       "    .dataframe tbody tr th {\n",
       "        vertical-align: top;\n",
       "    }\n",
       "\n",
       "    .dataframe thead th {\n",
       "        text-align: right;\n",
       "    }\n",
       "</style>\n",
       "<table border=\"1\" class=\"dataframe\">\n",
       "  <thead>\n",
       "    <tr style=\"text-align: right;\">\n",
       "      <th></th>\n",
       "      <th>country</th>\n",
       "      <th>totalScore</th>\n",
       "      <th>Relative Score</th>\n",
       "      <th>readingScore</th>\n",
       "      <th>mathScore</th>\n",
       "      <th>scienceScore</th>\n",
       "    </tr>\n",
       "  </thead>\n",
       "  <tbody>\n",
       "    <tr>\n",
       "      <td>0</td>\n",
       "      <td>Argentina</td>\n",
       "      <td>1600</td>\n",
       "      <td>0.888889</td>\n",
       "      <td>515</td>\n",
       "      <td>514</td>\n",
       "      <td>571.0</td>\n",
       "    </tr>\n",
       "    <tr>\n",
       "      <td>1</td>\n",
       "      <td>Australia</td>\n",
       "      <td>1556</td>\n",
       "      <td>0.864444</td>\n",
       "      <td>515</td>\n",
       "      <td>514</td>\n",
       "      <td>527.0</td>\n",
       "    </tr>\n",
       "    <tr>\n",
       "      <td>2</td>\n",
       "      <td>Austria</td>\n",
       "      <td>1460</td>\n",
       "      <td>0.811111</td>\n",
       "      <td>470</td>\n",
       "      <td>496</td>\n",
       "      <td>494.0</td>\n",
       "    </tr>\n",
       "    <tr>\n",
       "      <td>3</td>\n",
       "      <td>Azerbaijan</td>\n",
       "      <td>1166</td>\n",
       "      <td>0.647778</td>\n",
       "      <td>362</td>\n",
       "      <td>431</td>\n",
       "      <td>373.0</td>\n",
       "    </tr>\n",
       "    <tr>\n",
       "      <td>4</td>\n",
       "      <td>Belgium</td>\n",
       "      <td>1528</td>\n",
       "      <td>0.848889</td>\n",
       "      <td>506</td>\n",
       "      <td>515</td>\n",
       "      <td>507.0</td>\n",
       "    </tr>\n",
       "  </tbody>\n",
       "</table>\n",
       "</div>"
      ],
      "text/plain": [
       "      country  totalScore  Relative Score  readingScore  mathScore  \\\n",
       "0   Argentina        1600        0.888889           515        514   \n",
       "1   Australia        1556        0.864444           515        514   \n",
       "2     Austria        1460        0.811111           470        496   \n",
       "3  Azerbaijan        1166        0.647778           362        431   \n",
       "4     Belgium        1528        0.848889           506        515   \n",
       "\n",
       "   scienceScore  \n",
       "0         571.0  \n",
       "1         527.0  \n",
       "2         494.0  \n",
       "3         373.0  \n",
       "4         507.0  "
      ]
     },
     "execution_count": 7,
     "metadata": {},
     "output_type": "execute_result"
    }
   ],
   "source": [
    "edu.head()"
   ]
  },
  {
   "cell_type": "code",
   "execution_count": 8,
   "metadata": {},
   "outputs": [],
   "source": [
    "#File anme for reading Gender Data\n",
    "filename = \"gender_development.csv\""
   ]
  },
  {
   "cell_type": "code",
   "execution_count": 9,
   "metadata": {},
   "outputs": [
    {
     "name": "stdout",
     "output_type": "stream",
     "text": [
      "C:\\Users\\dassu\\NewData\\gender_development.csv\n"
     ]
    }
   ],
   "source": [
    "#Get the full file name including directory\n",
    "fullfilename = os.path.join(data_folder, filename)\n",
    "print(fullfilename)"
   ]
  },
  {
   "cell_type": "code",
   "execution_count": 10,
   "metadata": {},
   "outputs": [],
   "source": [
    "#Load Gender Data\n",
    "gen_dev =pd.read_csv(fullfilename)"
   ]
  },
  {
   "cell_type": "code",
   "execution_count": 11,
   "metadata": {},
   "outputs": [
    {
     "data": {
      "text/html": [
       "<div>\n",
       "<style scoped>\n",
       "    .dataframe tbody tr th:only-of-type {\n",
       "        vertical-align: middle;\n",
       "    }\n",
       "\n",
       "    .dataframe tbody tr th {\n",
       "        vertical-align: top;\n",
       "    }\n",
       "\n",
       "    .dataframe thead th {\n",
       "        text-align: right;\n",
       "    }\n",
       "</style>\n",
       "<table border=\"1\" class=\"dataframe\">\n",
       "  <thead>\n",
       "    <tr style=\"text-align: right;\">\n",
       "      <th></th>\n",
       "      <th>GDI Rank</th>\n",
       "      <th>Country</th>\n",
       "      <th>Gender Development Index (GDI)</th>\n",
       "      <th>Human Development Index (Female)</th>\n",
       "      <th>Human Development Index (Male)</th>\n",
       "      <th>Life Expectancy at Birth (Female)</th>\n",
       "      <th>Life Expectancy at Birth (Male)</th>\n",
       "      <th>Expected Years of Education (Female)</th>\n",
       "      <th>Expected Years of Education (Male)</th>\n",
       "      <th>Mean Years of Education (Female)</th>\n",
       "      <th>Mean Years of Education (Male)</th>\n",
       "      <th>Estimated Gross National Income per Capita (Female)</th>\n",
       "      <th>Estimated Gross National Income per Capita (Male)</th>\n",
       "    </tr>\n",
       "  </thead>\n",
       "  <tbody>\n",
       "    <tr>\n",
       "      <td>0</td>\n",
       "      <td>40</td>\n",
       "      <td>Argentina</td>\n",
       "      <td>0.982</td>\n",
       "      <td>0.819</td>\n",
       "      <td>0.834</td>\n",
       "      <td>80.1</td>\n",
       "      <td>72.4</td>\n",
       "      <td>19.1</td>\n",
       "      <td>16.8</td>\n",
       "      <td>9.8</td>\n",
       "      <td>9.8</td>\n",
       "      <td>14202</td>\n",
       "      <td>30237</td>\n",
       "    </tr>\n",
       "    <tr>\n",
       "      <td>1</td>\n",
       "      <td>2</td>\n",
       "      <td>Australia</td>\n",
       "      <td>0.976</td>\n",
       "      <td>0.922</td>\n",
       "      <td>0.945</td>\n",
       "      <td>84.5</td>\n",
       "      <td>80.3</td>\n",
       "      <td>20.7</td>\n",
       "      <td>19.7</td>\n",
       "      <td>13.1</td>\n",
       "      <td>12.9</td>\n",
       "      <td>33688</td>\n",
       "      <td>50914</td>\n",
       "    </tr>\n",
       "    <tr>\n",
       "      <td>2</td>\n",
       "      <td>23</td>\n",
       "      <td>Austria</td>\n",
       "      <td>0.943</td>\n",
       "      <td>0.856</td>\n",
       "      <td>0.909</td>\n",
       "      <td>83.8</td>\n",
       "      <td>78.8</td>\n",
       "      <td>16.1</td>\n",
       "      <td>15.4</td>\n",
       "      <td>9.9</td>\n",
       "      <td>11.9</td>\n",
       "      <td>29598</td>\n",
       "      <td>58826</td>\n",
       "    </tr>\n",
       "    <tr>\n",
       "      <td>3</td>\n",
       "      <td>78</td>\n",
       "      <td>Azerbaijan</td>\n",
       "      <td>0.942</td>\n",
       "      <td>0.721</td>\n",
       "      <td>0.766</td>\n",
       "      <td>74.0</td>\n",
       "      <td>67.7</td>\n",
       "      <td>11.8</td>\n",
       "      <td>12</td>\n",
       "      <td>10.5</td>\n",
       "      <td>11.2</td>\n",
       "      <td>10120</td>\n",
       "      <td>22814</td>\n",
       "    </tr>\n",
       "    <tr>\n",
       "      <td>4</td>\n",
       "      <td>50</td>\n",
       "      <td>Belarus</td>\n",
       "      <td>1.021</td>\n",
       "      <td>0.806</td>\n",
       "      <td>0.789</td>\n",
       "      <td>77.2</td>\n",
       "      <td>65.5</td>\n",
       "      <td>16.2</td>\n",
       "      <td>15.1</td>\n",
       "      <td>11.9</td>\n",
       "      <td>12.1</td>\n",
       "      <td>12922</td>\n",
       "      <td>21010</td>\n",
       "    </tr>\n",
       "  </tbody>\n",
       "</table>\n",
       "</div>"
      ],
      "text/plain": [
       "   GDI Rank     Country Gender Development Index (GDI)  \\\n",
       "0        40   Argentina                          0.982   \n",
       "1         2   Australia                          0.976   \n",
       "2        23     Austria                          0.943   \n",
       "3        78  Azerbaijan                          0.942   \n",
       "4        50     Belarus                          1.021   \n",
       "\n",
       "  Human Development Index (Female) Human Development Index (Male)  \\\n",
       "0                            0.819                          0.834   \n",
       "1                            0.922                          0.945   \n",
       "2                            0.856                          0.909   \n",
       "3                            0.721                          0.766   \n",
       "4                            0.806                          0.789   \n",
       "\n",
       "   Life Expectancy at Birth (Female)  Life Expectancy at Birth (Male)  \\\n",
       "0                               80.1                             72.4   \n",
       "1                               84.5                             80.3   \n",
       "2                               83.8                             78.8   \n",
       "3                               74.0                             67.7   \n",
       "4                               77.2                             65.5   \n",
       "\n",
       "  Expected Years of Education (Female) Expected Years of Education (Male)  \\\n",
       "0                                 19.1                               16.8   \n",
       "1                                 20.7                               19.7   \n",
       "2                                 16.1                               15.4   \n",
       "3                                 11.8                                 12   \n",
       "4                                 16.2                               15.1   \n",
       "\n",
       "   Mean Years of Education (Female)  Mean Years of Education (Male)  \\\n",
       "0                               9.8                             9.8   \n",
       "1                              13.1                            12.9   \n",
       "2                               9.9                            11.9   \n",
       "3                              10.5                            11.2   \n",
       "4                              11.9                            12.1   \n",
       "\n",
       "   Estimated Gross National Income per Capita (Female)  \\\n",
       "0                                              14202     \n",
       "1                                              33688     \n",
       "2                                              29598     \n",
       "3                                              10120     \n",
       "4                                              12922     \n",
       "\n",
       "   Estimated Gross National Income per Capita (Male)  \n",
       "0                                              30237  \n",
       "1                                              50914  \n",
       "2                                              58826  \n",
       "3                                              22814  \n",
       "4                                              21010  "
      ]
     },
     "execution_count": 11,
     "metadata": {},
     "output_type": "execute_result"
    }
   ],
   "source": [
    "gen_dev.head()"
   ]
  },
  {
   "cell_type": "code",
   "execution_count": 12,
   "metadata": {},
   "outputs": [],
   "source": [
    "#File anme for reading Gender Data\n",
    "filename = \"Living standards.csv\""
   ]
  },
  {
   "cell_type": "code",
   "execution_count": 13,
   "metadata": {},
   "outputs": [
    {
     "name": "stdout",
     "output_type": "stream",
     "text": [
      "C:\\Users\\dassu\\NewData\\Living standards.csv\n"
     ]
    }
   ],
   "source": [
    "# Importing Living Standards data\n",
    "\n",
    "#Get the full file name including directory\n",
    "fullfilename = os.path.join(data_folder, filename)\n",
    "print(fullfilename)\n"
   ]
  },
  {
   "cell_type": "code",
   "execution_count": 15,
   "metadata": {},
   "outputs": [
    {
     "data": {
      "text/html": [
       "<div>\n",
       "<style scoped>\n",
       "    .dataframe tbody tr th:only-of-type {\n",
       "        vertical-align: middle;\n",
       "    }\n",
       "\n",
       "    .dataframe tbody tr th {\n",
       "        vertical-align: top;\n",
       "    }\n",
       "\n",
       "    .dataframe thead th {\n",
       "        text-align: right;\n",
       "    }\n",
       "</style>\n",
       "<table border=\"1\" class=\"dataframe\">\n",
       "  <thead>\n",
       "    <tr style=\"text-align: right;\">\n",
       "      <th></th>\n",
       "      <th>country</th>\n",
       "      <th>lifeQualityRank</th>\n",
       "      <th>lifeQualityIndex</th>\n",
       "      <th>Avg Living standards</th>\n",
       "      <th>safetyIndex</th>\n",
       "      <th>healthcareIndex</th>\n",
       "      <th>pollutionIndex</th>\n",
       "      <th>climateIndex</th>\n",
       "    </tr>\n",
       "  </thead>\n",
       "  <tbody>\n",
       "    <tr>\n",
       "      <td>0</td>\n",
       "      <td>Argentina</td>\n",
       "      <td>55</td>\n",
       "      <td>114.21</td>\n",
       "      <td>1.1421</td>\n",
       "      <td>37.74</td>\n",
       "      <td>69.16</td>\n",
       "      <td>50.61</td>\n",
       "      <td>98.28</td>\n",
       "    </tr>\n",
       "    <tr>\n",
       "      <td>1</td>\n",
       "      <td>Australia</td>\n",
       "      <td>4</td>\n",
       "      <td>185.03</td>\n",
       "      <td>1.8503</td>\n",
       "      <td>58.33</td>\n",
       "      <td>77.81</td>\n",
       "      <td>23.22</td>\n",
       "      <td>94.20</td>\n",
       "    </tr>\n",
       "    <tr>\n",
       "      <td>2</td>\n",
       "      <td>Austria</td>\n",
       "      <td>6</td>\n",
       "      <td>181.68</td>\n",
       "      <td>1.8168</td>\n",
       "      <td>75.57</td>\n",
       "      <td>78.56</td>\n",
       "      <td>21.65</td>\n",
       "      <td>78.22</td>\n",
       "    </tr>\n",
       "    <tr>\n",
       "      <td>3</td>\n",
       "      <td>Azerbaijan</td>\n",
       "      <td>66</td>\n",
       "      <td>102.69</td>\n",
       "      <td>1.0269</td>\n",
       "      <td>NaN</td>\n",
       "      <td>NaN</td>\n",
       "      <td>NaN</td>\n",
       "      <td>NaN</td>\n",
       "    </tr>\n",
       "    <tr>\n",
       "      <td>4</td>\n",
       "      <td>Belarus</td>\n",
       "      <td>38</td>\n",
       "      <td>133.52</td>\n",
       "      <td>1.3352</td>\n",
       "      <td>74.98</td>\n",
       "      <td>60.03</td>\n",
       "      <td>43.58</td>\n",
       "      <td>64.37</td>\n",
       "    </tr>\n",
       "  </tbody>\n",
       "</table>\n",
       "</div>"
      ],
      "text/plain": [
       "      country  lifeQualityRank  lifeQualityIndex  Avg Living standards  \\\n",
       "0   Argentina               55            114.21                1.1421   \n",
       "1   Australia                4            185.03                1.8503   \n",
       "2     Austria                6            181.68                1.8168   \n",
       "3  Azerbaijan               66            102.69                1.0269   \n",
       "4     Belarus               38            133.52                1.3352   \n",
       "\n",
       "   safetyIndex  healthcareIndex  pollutionIndex  climateIndex  \n",
       "0        37.74            69.16           50.61         98.28  \n",
       "1        58.33            77.81           23.22         94.20  \n",
       "2        75.57            78.56           21.65         78.22  \n",
       "3          NaN              NaN             NaN           NaN  \n",
       "4        74.98            60.03           43.58         64.37  "
      ]
     },
     "execution_count": 15,
     "metadata": {},
     "output_type": "execute_result"
    }
   ],
   "source": [
    "liv_stan =pd.read_csv(fullfilename)\n",
    "liv_stan.head()"
   ]
  },
  {
   "cell_type": "code",
   "execution_count": 16,
   "metadata": {},
   "outputs": [],
   "source": [
    "Liv_standard = liv_stan.drop(['lifeQualityRank','lifeQualityIndex','safetyIndex','healthcareIndex','pollutionIndex','climateIndex'],axis = 1)"
   ]
  },
  {
   "cell_type": "code",
   "execution_count": 128,
   "metadata": {},
   "outputs": [
    {
     "data": {
      "text/html": [
       "<div>\n",
       "<style scoped>\n",
       "    .dataframe tbody tr th:only-of-type {\n",
       "        vertical-align: middle;\n",
       "    }\n",
       "\n",
       "    .dataframe tbody tr th {\n",
       "        vertical-align: top;\n",
       "    }\n",
       "\n",
       "    .dataframe thead th {\n",
       "        text-align: right;\n",
       "    }\n",
       "</style>\n",
       "<table border=\"1\" class=\"dataframe\">\n",
       "  <thead>\n",
       "    <tr style=\"text-align: right;\">\n",
       "      <th></th>\n",
       "      <th>country</th>\n",
       "      <th>Avg Living standards</th>\n",
       "    </tr>\n",
       "  </thead>\n",
       "  <tbody>\n",
       "    <tr>\n",
       "      <td>0</td>\n",
       "      <td>Argentina</td>\n",
       "      <td>1.1421</td>\n",
       "    </tr>\n",
       "    <tr>\n",
       "      <td>1</td>\n",
       "      <td>Australia</td>\n",
       "      <td>1.8503</td>\n",
       "    </tr>\n",
       "    <tr>\n",
       "      <td>2</td>\n",
       "      <td>Austria</td>\n",
       "      <td>1.8168</td>\n",
       "    </tr>\n",
       "    <tr>\n",
       "      <td>3</td>\n",
       "      <td>Azerbaijan</td>\n",
       "      <td>1.0269</td>\n",
       "    </tr>\n",
       "    <tr>\n",
       "      <td>4</td>\n",
       "      <td>Belarus</td>\n",
       "      <td>1.3352</td>\n",
       "    </tr>\n",
       "  </tbody>\n",
       "</table>\n",
       "</div>"
      ],
      "text/plain": [
       "      country  Avg Living standards\n",
       "0   Argentina                1.1421\n",
       "1   Australia                1.8503\n",
       "2     Austria                1.8168\n",
       "3  Azerbaijan                1.0269\n",
       "4     Belarus                1.3352"
      ]
     },
     "execution_count": 128,
     "metadata": {},
     "output_type": "execute_result"
    }
   ],
   "source": [
    "Liv_standard.head()"
   ]
  },
  {
   "cell_type": "code",
   "execution_count": 17,
   "metadata": {},
   "outputs": [
    {
     "data": {
      "text/html": [
       "<div>\n",
       "<style scoped>\n",
       "    .dataframe tbody tr th:only-of-type {\n",
       "        vertical-align: middle;\n",
       "    }\n",
       "\n",
       "    .dataframe tbody tr th {\n",
       "        vertical-align: top;\n",
       "    }\n",
       "\n",
       "    .dataframe thead th {\n",
       "        text-align: right;\n",
       "    }\n",
       "</style>\n",
       "<table border=\"1\" class=\"dataframe\">\n",
       "  <thead>\n",
       "    <tr style=\"text-align: right;\">\n",
       "      <th></th>\n",
       "      <th>country</th>\n",
       "      <th>Avg Living standards</th>\n",
       "    </tr>\n",
       "  </thead>\n",
       "  <tbody>\n",
       "    <tr>\n",
       "      <td>0</td>\n",
       "      <td>Argentina</td>\n",
       "      <td>1.1421</td>\n",
       "    </tr>\n",
       "    <tr>\n",
       "      <td>1</td>\n",
       "      <td>Australia</td>\n",
       "      <td>1.8503</td>\n",
       "    </tr>\n",
       "    <tr>\n",
       "      <td>2</td>\n",
       "      <td>Austria</td>\n",
       "      <td>1.8168</td>\n",
       "    </tr>\n",
       "    <tr>\n",
       "      <td>3</td>\n",
       "      <td>Azerbaijan</td>\n",
       "      <td>1.0269</td>\n",
       "    </tr>\n",
       "    <tr>\n",
       "      <td>4</td>\n",
       "      <td>Belarus</td>\n",
       "      <td>1.3352</td>\n",
       "    </tr>\n",
       "  </tbody>\n",
       "</table>\n",
       "</div>"
      ],
      "text/plain": [
       "      country  Avg Living standards\n",
       "0   Argentina                1.1421\n",
       "1   Australia                1.8503\n",
       "2     Austria                1.8168\n",
       "3  Azerbaijan                1.0269\n",
       "4     Belarus                1.3352"
      ]
     },
     "execution_count": 17,
     "metadata": {},
     "output_type": "execute_result"
    }
   ],
   "source": [
    "Liv_standard.head()"
   ]
  },
  {
   "cell_type": "code",
   "execution_count": 18,
   "metadata": {},
   "outputs": [
    {
     "name": "stdout",
     "output_type": "stream",
     "text": [
      "C:\\Users\\dassu\\NewData\\Pol Stab.csv\n"
     ]
    },
    {
     "data": {
      "text/html": [
       "<div>\n",
       "<style scoped>\n",
       "    .dataframe tbody tr th:only-of-type {\n",
       "        vertical-align: middle;\n",
       "    }\n",
       "\n",
       "    .dataframe tbody tr th {\n",
       "        vertical-align: top;\n",
       "    }\n",
       "\n",
       "    .dataframe thead th {\n",
       "        text-align: right;\n",
       "    }\n",
       "</style>\n",
       "<table border=\"1\" class=\"dataframe\">\n",
       "  <thead>\n",
       "    <tr style=\"text-align: right;\">\n",
       "      <th></th>\n",
       "      <th>Country ISO3</th>\n",
       "      <th>Country Name</th>\n",
       "      <th>Indicator Id</th>\n",
       "      <th>Indicator</th>\n",
       "      <th>Subindicator Type</th>\n",
       "      <th>2019</th>\n",
       "      <th>Score</th>\n",
       "    </tr>\n",
       "  </thead>\n",
       "  <tbody>\n",
       "    <tr>\n",
       "      <td>0</td>\n",
       "      <td>AUS</td>\n",
       "      <td>Australia</td>\n",
       "      <td>379</td>\n",
       "      <td>Political Stability No Violence</td>\n",
       "      <td>Rank</td>\n",
       "      <td>88.57143</td>\n",
       "      <td>0.885714</td>\n",
       "    </tr>\n",
       "    <tr>\n",
       "      <td>1</td>\n",
       "      <td>AUT</td>\n",
       "      <td>Austria</td>\n",
       "      <td>379</td>\n",
       "      <td>Political Stability No Violence</td>\n",
       "      <td>Rank</td>\n",
       "      <td>82.85714</td>\n",
       "      <td>0.828571</td>\n",
       "    </tr>\n",
       "    <tr>\n",
       "      <td>2</td>\n",
       "      <td>AZE</td>\n",
       "      <td>Azerbaijan</td>\n",
       "      <td>379</td>\n",
       "      <td>Political Stability No Violence</td>\n",
       "      <td>Rank</td>\n",
       "      <td>21.90476</td>\n",
       "      <td>0.219048</td>\n",
       "    </tr>\n",
       "    <tr>\n",
       "      <td>3</td>\n",
       "      <td>BLR</td>\n",
       "      <td>Belarus</td>\n",
       "      <td>379</td>\n",
       "      <td>Political Stability No Violence</td>\n",
       "      <td>Rank</td>\n",
       "      <td>56.66667</td>\n",
       "      <td>0.566667</td>\n",
       "    </tr>\n",
       "    <tr>\n",
       "      <td>4</td>\n",
       "      <td>BEL</td>\n",
       "      <td>Belgium</td>\n",
       "      <td>379</td>\n",
       "      <td>Political Stability No Violence</td>\n",
       "      <td>Rank</td>\n",
       "      <td>61.90476</td>\n",
       "      <td>0.619048</td>\n",
       "    </tr>\n",
       "  </tbody>\n",
       "</table>\n",
       "</div>"
      ],
      "text/plain": [
       "  Country ISO3 Country Name  Indicator Id                        Indicator  \\\n",
       "0          AUS    Australia           379  Political Stability No Violence   \n",
       "1          AUT      Austria           379  Political Stability No Violence   \n",
       "2          AZE   Azerbaijan           379  Political Stability No Violence   \n",
       "3          BLR      Belarus           379  Political Stability No Violence   \n",
       "4          BEL      Belgium           379  Political Stability No Violence   \n",
       "\n",
       "  Subindicator Type      2019     Score  \n",
       "0              Rank  88.57143  0.885714  \n",
       "1              Rank  82.85714  0.828571  \n",
       "2              Rank  21.90476  0.219048  \n",
       "3              Rank  56.66667  0.566667  \n",
       "4              Rank  61.90476  0.619048  "
      ]
     },
     "execution_count": 18,
     "metadata": {},
     "output_type": "execute_result"
    }
   ],
   "source": [
    "# importing political stability data\n",
    "\n",
    "filename = \"Pol Stab.csv\"\n",
    "\n",
    "#Get the full file name including directory\n",
    "fullfilename = os.path.join(data_folder, filename)\n",
    "print(fullfilename)\n",
    "\n",
    "# fullfilename =datapath + filename\n",
    "pol_stab =pd.read_csv(fullfilename)\n",
    "pol_stab.head()\n",
    "\n"
   ]
  },
  {
   "cell_type": "code",
   "execution_count": 19,
   "metadata": {},
   "outputs": [
    {
     "data": {
      "text/html": [
       "<div>\n",
       "<style scoped>\n",
       "    .dataframe tbody tr th:only-of-type {\n",
       "        vertical-align: middle;\n",
       "    }\n",
       "\n",
       "    .dataframe tbody tr th {\n",
       "        vertical-align: top;\n",
       "    }\n",
       "\n",
       "    .dataframe thead th {\n",
       "        text-align: right;\n",
       "    }\n",
       "</style>\n",
       "<table border=\"1\" class=\"dataframe\">\n",
       "  <thead>\n",
       "    <tr style=\"text-align: right;\">\n",
       "      <th></th>\n",
       "      <th>Country ISO3</th>\n",
       "      <th>Country Name</th>\n",
       "      <th>Indicator Id</th>\n",
       "      <th>Indicator</th>\n",
       "      <th>Subindicator Type</th>\n",
       "      <th>2019</th>\n",
       "      <th>Score</th>\n",
       "    </tr>\n",
       "  </thead>\n",
       "  <tbody>\n",
       "    <tr>\n",
       "      <td>0</td>\n",
       "      <td>AUS</td>\n",
       "      <td>Australia</td>\n",
       "      <td>379</td>\n",
       "      <td>Political Stability No Violence</td>\n",
       "      <td>Rank</td>\n",
       "      <td>88.57143</td>\n",
       "      <td>0.885714</td>\n",
       "    </tr>\n",
       "    <tr>\n",
       "      <td>1</td>\n",
       "      <td>AUT</td>\n",
       "      <td>Austria</td>\n",
       "      <td>379</td>\n",
       "      <td>Political Stability No Violence</td>\n",
       "      <td>Rank</td>\n",
       "      <td>82.85714</td>\n",
       "      <td>0.828571</td>\n",
       "    </tr>\n",
       "    <tr>\n",
       "      <td>2</td>\n",
       "      <td>AZE</td>\n",
       "      <td>Azerbaijan</td>\n",
       "      <td>379</td>\n",
       "      <td>Political Stability No Violence</td>\n",
       "      <td>Rank</td>\n",
       "      <td>21.90476</td>\n",
       "      <td>0.219048</td>\n",
       "    </tr>\n",
       "    <tr>\n",
       "      <td>3</td>\n",
       "      <td>BLR</td>\n",
       "      <td>Belarus</td>\n",
       "      <td>379</td>\n",
       "      <td>Political Stability No Violence</td>\n",
       "      <td>Rank</td>\n",
       "      <td>56.66667</td>\n",
       "      <td>0.566667</td>\n",
       "    </tr>\n",
       "    <tr>\n",
       "      <td>4</td>\n",
       "      <td>BEL</td>\n",
       "      <td>Belgium</td>\n",
       "      <td>379</td>\n",
       "      <td>Political Stability No Violence</td>\n",
       "      <td>Rank</td>\n",
       "      <td>61.90476</td>\n",
       "      <td>0.619048</td>\n",
       "    </tr>\n",
       "  </tbody>\n",
       "</table>\n",
       "</div>"
      ],
      "text/plain": [
       "  Country ISO3 Country Name  Indicator Id                        Indicator  \\\n",
       "0          AUS    Australia           379  Political Stability No Violence   \n",
       "1          AUT      Austria           379  Political Stability No Violence   \n",
       "2          AZE   Azerbaijan           379  Political Stability No Violence   \n",
       "3          BLR      Belarus           379  Political Stability No Violence   \n",
       "4          BEL      Belgium           379  Political Stability No Violence   \n",
       "\n",
       "  Subindicator Type      2019     Score  \n",
       "0              Rank  88.57143  0.885714  \n",
       "1              Rank  82.85714  0.828571  \n",
       "2              Rank  21.90476  0.219048  \n",
       "3              Rank  56.66667  0.566667  \n",
       "4              Rank  61.90476  0.619048  "
      ]
     },
     "execution_count": 19,
     "metadata": {},
     "output_type": "execute_result"
    }
   ],
   "source": [
    "pol_stab.head()"
   ]
  },
  {
   "cell_type": "code",
   "execution_count": 20,
   "metadata": {},
   "outputs": [
    {
     "name": "stdout",
     "output_type": "stream",
     "text": [
      "C:\\Users\\dassu\\NewData\\relig_iso.csv\n"
     ]
    },
    {
     "data": {
      "text/html": [
       "<div>\n",
       "<style scoped>\n",
       "    .dataframe tbody tr th:only-of-type {\n",
       "        vertical-align: middle;\n",
       "    }\n",
       "\n",
       "    .dataframe tbody tr th {\n",
       "        vertical-align: top;\n",
       "    }\n",
       "\n",
       "    .dataframe thead th {\n",
       "        text-align: right;\n",
       "    }\n",
       "</style>\n",
       "<table border=\"1\" class=\"dataframe\">\n",
       "  <thead>\n",
       "    <tr style=\"text-align: right;\">\n",
       "      <th></th>\n",
       "      <th>Unnamed: 0</th>\n",
       "      <th>iso</th>\n",
       "      <th>country</th>\n",
       "      <th>gdp_pc</th>\n",
       "      <th>gpi_rank</th>\n",
       "      <th>gpi_score</th>\n",
       "      <th>percentage_non_religious</th>\n",
       "    </tr>\n",
       "  </thead>\n",
       "  <tbody>\n",
       "    <tr>\n",
       "      <td>0</td>\n",
       "      <td>4</td>\n",
       "      <td>ARG</td>\n",
       "      <td>Argentina</td>\n",
       "      <td>14700</td>\n",
       "      <td>44</td>\n",
       "      <td>1.763</td>\n",
       "      <td>1.19</td>\n",
       "    </tr>\n",
       "    <tr>\n",
       "      <td>1</td>\n",
       "      <td>6</td>\n",
       "      <td>AUS</td>\n",
       "      <td>Australia</td>\n",
       "      <td>41000</td>\n",
       "      <td>22</td>\n",
       "      <td>1.494</td>\n",
       "      <td>19.00</td>\n",
       "    </tr>\n",
       "    <tr>\n",
       "      <td>2</td>\n",
       "      <td>7</td>\n",
       "      <td>AUT</td>\n",
       "      <td>Austria</td>\n",
       "      <td>40400</td>\n",
       "      <td>6</td>\n",
       "      <td>1.328</td>\n",
       "      <td>30.20</td>\n",
       "    </tr>\n",
       "    <tr>\n",
       "      <td>3</td>\n",
       "      <td>8</td>\n",
       "      <td>AZE</td>\n",
       "      <td>Azerbaijan</td>\n",
       "      <td>10900</td>\n",
       "      <td>132</td>\n",
       "      <td>2.360</td>\n",
       "      <td>0.00</td>\n",
       "    </tr>\n",
       "    <tr>\n",
       "      <td>4</td>\n",
       "      <td>14</td>\n",
       "      <td>BGR</td>\n",
       "      <td>Bulgaria</td>\n",
       "      <td>13500</td>\n",
       "      <td>39</td>\n",
       "      <td>1.699</td>\n",
       "      <td>0.00</td>\n",
       "    </tr>\n",
       "  </tbody>\n",
       "</table>\n",
       "</div>"
      ],
      "text/plain": [
       "   Unnamed: 0  iso     country  gdp_pc  gpi_rank  gpi_score  \\\n",
       "0           4  ARG   Argentina   14700        44      1.763   \n",
       "1           6  AUS   Australia   41000        22      1.494   \n",
       "2           7  AUT     Austria   40400         6      1.328   \n",
       "3           8  AZE  Azerbaijan   10900       132      2.360   \n",
       "4          14  BGR    Bulgaria   13500        39      1.699   \n",
       "\n",
       "   percentage_non_religious  \n",
       "0                      1.19  \n",
       "1                     19.00  \n",
       "2                     30.20  \n",
       "3                      0.00  \n",
       "4                      0.00  "
      ]
     },
     "execution_count": 20,
     "metadata": {},
     "output_type": "execute_result"
    }
   ],
   "source": [
    "# importing religion data\n",
    "\n",
    "filename = \"relig_iso.csv\"\n",
    "\n",
    "\n",
    "#Get the full file name including directory\n",
    "fullfilename = os.path.join(data_folder, filename)\n",
    "print(fullfilename)\n",
    "\n",
    "reli_data =pd.read_csv(fullfilename)\n",
    "reli_data.head()\n"
   ]
  },
  {
   "cell_type": "code",
   "execution_count": 21,
   "metadata": {},
   "outputs": [],
   "source": [
    "religion = reli_data.drop(['Unnamed: 0','iso','gdp_pc','gpi_rank','percentage_non_religious'], axis = 1)"
   ]
  },
  {
   "cell_type": "code",
   "execution_count": 22,
   "metadata": {},
   "outputs": [
    {
     "data": {
      "text/html": [
       "<div>\n",
       "<style scoped>\n",
       "    .dataframe tbody tr th:only-of-type {\n",
       "        vertical-align: middle;\n",
       "    }\n",
       "\n",
       "    .dataframe tbody tr th {\n",
       "        vertical-align: top;\n",
       "    }\n",
       "\n",
       "    .dataframe thead th {\n",
       "        text-align: right;\n",
       "    }\n",
       "</style>\n",
       "<table border=\"1\" class=\"dataframe\">\n",
       "  <thead>\n",
       "    <tr style=\"text-align: right;\">\n",
       "      <th></th>\n",
       "      <th>country</th>\n",
       "      <th>gpi_score</th>\n",
       "    </tr>\n",
       "  </thead>\n",
       "  <tbody>\n",
       "    <tr>\n",
       "      <td>0</td>\n",
       "      <td>Argentina</td>\n",
       "      <td>1.763</td>\n",
       "    </tr>\n",
       "    <tr>\n",
       "      <td>1</td>\n",
       "      <td>Australia</td>\n",
       "      <td>1.494</td>\n",
       "    </tr>\n",
       "    <tr>\n",
       "      <td>2</td>\n",
       "      <td>Austria</td>\n",
       "      <td>1.328</td>\n",
       "    </tr>\n",
       "    <tr>\n",
       "      <td>3</td>\n",
       "      <td>Azerbaijan</td>\n",
       "      <td>2.360</td>\n",
       "    </tr>\n",
       "    <tr>\n",
       "      <td>4</td>\n",
       "      <td>Bulgaria</td>\n",
       "      <td>1.699</td>\n",
       "    </tr>\n",
       "  </tbody>\n",
       "</table>\n",
       "</div>"
      ],
      "text/plain": [
       "      country  gpi_score\n",
       "0   Argentina      1.763\n",
       "1   Australia      1.494\n",
       "2     Austria      1.328\n",
       "3  Azerbaijan      2.360\n",
       "4    Bulgaria      1.699"
      ]
     },
     "execution_count": 22,
     "metadata": {},
     "output_type": "execute_result"
    }
   ],
   "source": [
    "religion.head()"
   ]
  },
  {
   "cell_type": "code",
   "execution_count": 23,
   "metadata": {},
   "outputs": [
    {
     "data": {
      "text/html": [
       "<div>\n",
       "<style scoped>\n",
       "    .dataframe tbody tr th:only-of-type {\n",
       "        vertical-align: middle;\n",
       "    }\n",
       "\n",
       "    .dataframe tbody tr th {\n",
       "        vertical-align: top;\n",
       "    }\n",
       "\n",
       "    .dataframe thead th {\n",
       "        text-align: right;\n",
       "    }\n",
       "</style>\n",
       "<table border=\"1\" class=\"dataframe\">\n",
       "  <thead>\n",
       "    <tr style=\"text-align: right;\">\n",
       "      <th></th>\n",
       "      <th>GDI Rank</th>\n",
       "      <th>Country</th>\n",
       "      <th>Gender Development Index (GDI)</th>\n",
       "      <th>Human Development Index (Female)</th>\n",
       "      <th>Human Development Index (Male)</th>\n",
       "      <th>Life Expectancy at Birth (Female)</th>\n",
       "      <th>Life Expectancy at Birth (Male)</th>\n",
       "      <th>Expected Years of Education (Female)</th>\n",
       "      <th>Expected Years of Education (Male)</th>\n",
       "      <th>Mean Years of Education (Female)</th>\n",
       "      <th>Mean Years of Education (Male)</th>\n",
       "      <th>Estimated Gross National Income per Capita (Female)</th>\n",
       "      <th>Estimated Gross National Income per Capita (Male)</th>\n",
       "    </tr>\n",
       "  </thead>\n",
       "  <tbody>\n",
       "    <tr>\n",
       "      <td>0</td>\n",
       "      <td>40</td>\n",
       "      <td>Argentina</td>\n",
       "      <td>0.982</td>\n",
       "      <td>0.819</td>\n",
       "      <td>0.834</td>\n",
       "      <td>80.1</td>\n",
       "      <td>72.4</td>\n",
       "      <td>19.1</td>\n",
       "      <td>16.8</td>\n",
       "      <td>9.8</td>\n",
       "      <td>9.8</td>\n",
       "      <td>14202</td>\n",
       "      <td>30237</td>\n",
       "    </tr>\n",
       "    <tr>\n",
       "      <td>1</td>\n",
       "      <td>2</td>\n",
       "      <td>Australia</td>\n",
       "      <td>0.976</td>\n",
       "      <td>0.922</td>\n",
       "      <td>0.945</td>\n",
       "      <td>84.5</td>\n",
       "      <td>80.3</td>\n",
       "      <td>20.7</td>\n",
       "      <td>19.7</td>\n",
       "      <td>13.1</td>\n",
       "      <td>12.9</td>\n",
       "      <td>33688</td>\n",
       "      <td>50914</td>\n",
       "    </tr>\n",
       "    <tr>\n",
       "      <td>2</td>\n",
       "      <td>23</td>\n",
       "      <td>Austria</td>\n",
       "      <td>0.943</td>\n",
       "      <td>0.856</td>\n",
       "      <td>0.909</td>\n",
       "      <td>83.8</td>\n",
       "      <td>78.8</td>\n",
       "      <td>16.1</td>\n",
       "      <td>15.4</td>\n",
       "      <td>9.9</td>\n",
       "      <td>11.9</td>\n",
       "      <td>29598</td>\n",
       "      <td>58826</td>\n",
       "    </tr>\n",
       "    <tr>\n",
       "      <td>3</td>\n",
       "      <td>78</td>\n",
       "      <td>Azerbaijan</td>\n",
       "      <td>0.942</td>\n",
       "      <td>0.721</td>\n",
       "      <td>0.766</td>\n",
       "      <td>74.0</td>\n",
       "      <td>67.7</td>\n",
       "      <td>11.8</td>\n",
       "      <td>12</td>\n",
       "      <td>10.5</td>\n",
       "      <td>11.2</td>\n",
       "      <td>10120</td>\n",
       "      <td>22814</td>\n",
       "    </tr>\n",
       "    <tr>\n",
       "      <td>4</td>\n",
       "      <td>50</td>\n",
       "      <td>Belarus</td>\n",
       "      <td>1.021</td>\n",
       "      <td>0.806</td>\n",
       "      <td>0.789</td>\n",
       "      <td>77.2</td>\n",
       "      <td>65.5</td>\n",
       "      <td>16.2</td>\n",
       "      <td>15.1</td>\n",
       "      <td>11.9</td>\n",
       "      <td>12.1</td>\n",
       "      <td>12922</td>\n",
       "      <td>21010</td>\n",
       "    </tr>\n",
       "  </tbody>\n",
       "</table>\n",
       "</div>"
      ],
      "text/plain": [
       "   GDI Rank     Country Gender Development Index (GDI)  \\\n",
       "0        40   Argentina                          0.982   \n",
       "1         2   Australia                          0.976   \n",
       "2        23     Austria                          0.943   \n",
       "3        78  Azerbaijan                          0.942   \n",
       "4        50     Belarus                          1.021   \n",
       "\n",
       "  Human Development Index (Female) Human Development Index (Male)  \\\n",
       "0                            0.819                          0.834   \n",
       "1                            0.922                          0.945   \n",
       "2                            0.856                          0.909   \n",
       "3                            0.721                          0.766   \n",
       "4                            0.806                          0.789   \n",
       "\n",
       "   Life Expectancy at Birth (Female)  Life Expectancy at Birth (Male)  \\\n",
       "0                               80.1                             72.4   \n",
       "1                               84.5                             80.3   \n",
       "2                               83.8                             78.8   \n",
       "3                               74.0                             67.7   \n",
       "4                               77.2                             65.5   \n",
       "\n",
       "  Expected Years of Education (Female) Expected Years of Education (Male)  \\\n",
       "0                                 19.1                               16.8   \n",
       "1                                 20.7                               19.7   \n",
       "2                                 16.1                               15.4   \n",
       "3                                 11.8                                 12   \n",
       "4                                 16.2                               15.1   \n",
       "\n",
       "   Mean Years of Education (Female)  Mean Years of Education (Male)  \\\n",
       "0                               9.8                             9.8   \n",
       "1                              13.1                            12.9   \n",
       "2                               9.9                            11.9   \n",
       "3                              10.5                            11.2   \n",
       "4                              11.9                            12.1   \n",
       "\n",
       "   Estimated Gross National Income per Capita (Female)  \\\n",
       "0                                              14202     \n",
       "1                                              33688     \n",
       "2                                              29598     \n",
       "3                                              10120     \n",
       "4                                              12922     \n",
       "\n",
       "   Estimated Gross National Income per Capita (Male)  \n",
       "0                                              30237  \n",
       "1                                              50914  \n",
       "2                                              58826  \n",
       "3                                              22814  \n",
       "4                                              21010  "
      ]
     },
     "execution_count": 23,
     "metadata": {},
     "output_type": "execute_result"
    }
   ],
   "source": [
    "gen_dev.head()"
   ]
  },
  {
   "cell_type": "code",
   "execution_count": 24,
   "metadata": {},
   "outputs": [],
   "source": [
    "gender_dev =gen_dev.drop(['GDI Rank','Human Development Index (Female)','Human Development Index (Male)',\n",
    "                          'Life Expectancy at Birth (Female)','Life Expectancy at Birth (Male)','Expected Years of Education (Female)',\n",
    "                         'Expected Years of Education (Male)','Mean Years of Education (Female)',\n",
    "                          'Mean Years of Education (Male)','Estimated Gross National Income per Capita (Female)',\n",
    "                          'Estimated Gross National Income per Capita (Male)'], axis = 1)"
   ]
  },
  {
   "cell_type": "code",
   "execution_count": 25,
   "metadata": {},
   "outputs": [],
   "source": [
    "gender_dev.columns= ['country','Gender Development Index']"
   ]
  },
  {
   "cell_type": "code",
   "execution_count": 26,
   "metadata": {},
   "outputs": [
    {
     "data": {
      "text/html": [
       "<div>\n",
       "<style scoped>\n",
       "    .dataframe tbody tr th:only-of-type {\n",
       "        vertical-align: middle;\n",
       "    }\n",
       "\n",
       "    .dataframe tbody tr th {\n",
       "        vertical-align: top;\n",
       "    }\n",
       "\n",
       "    .dataframe thead th {\n",
       "        text-align: right;\n",
       "    }\n",
       "</style>\n",
       "<table border=\"1\" class=\"dataframe\">\n",
       "  <thead>\n",
       "    <tr style=\"text-align: right;\">\n",
       "      <th></th>\n",
       "      <th>country</th>\n",
       "      <th>Gender Development Index</th>\n",
       "    </tr>\n",
       "  </thead>\n",
       "  <tbody>\n",
       "    <tr>\n",
       "      <td>0</td>\n",
       "      <td>Argentina</td>\n",
       "      <td>0.982</td>\n",
       "    </tr>\n",
       "    <tr>\n",
       "      <td>1</td>\n",
       "      <td>Australia</td>\n",
       "      <td>0.976</td>\n",
       "    </tr>\n",
       "    <tr>\n",
       "      <td>2</td>\n",
       "      <td>Austria</td>\n",
       "      <td>0.943</td>\n",
       "    </tr>\n",
       "    <tr>\n",
       "      <td>3</td>\n",
       "      <td>Azerbaijan</td>\n",
       "      <td>0.942</td>\n",
       "    </tr>\n",
       "    <tr>\n",
       "      <td>4</td>\n",
       "      <td>Belarus</td>\n",
       "      <td>1.021</td>\n",
       "    </tr>\n",
       "  </tbody>\n",
       "</table>\n",
       "</div>"
      ],
      "text/plain": [
       "      country Gender Development Index\n",
       "0   Argentina                    0.982\n",
       "1   Australia                    0.976\n",
       "2     Austria                    0.943\n",
       "3  Azerbaijan                    0.942\n",
       "4     Belarus                    1.021"
      ]
     },
     "execution_count": 26,
     "metadata": {},
     "output_type": "execute_result"
    }
   ],
   "source": [
    "gender_dev.head()"
   ]
  },
  {
   "cell_type": "code",
   "execution_count": 29,
   "metadata": {},
   "outputs": [],
   "source": [
    "#Importing Time spent on Leisure data\n",
    "Leisure_Data =pd.read_excel(r'C:\\Suparna\\CUNY\\Capstone Project\\Time-Spent-On-Leisure.xlsx')"
   ]
  },
  {
   "cell_type": "code",
   "execution_count": 30,
   "metadata": {},
   "outputs": [
    {
     "data": {
      "text/html": [
       "<div>\n",
       "<style scoped>\n",
       "    .dataframe tbody tr th:only-of-type {\n",
       "        vertical-align: middle;\n",
       "    }\n",
       "\n",
       "    .dataframe tbody tr th {\n",
       "        vertical-align: top;\n",
       "    }\n",
       "\n",
       "    .dataframe thead th {\n",
       "        text-align: right;\n",
       "    }\n",
       "</style>\n",
       "<table border=\"1\" class=\"dataframe\">\n",
       "  <thead>\n",
       "    <tr style=\"text-align: right;\">\n",
       "      <th></th>\n",
       "      <th>Entity</th>\n",
       "      <th>Code</th>\n",
       "      <th>Year</th>\n",
       "      <th>Minutes spent on leisure - women (OECD Gender data (2020))</th>\n",
       "      <th>Minutes spent on leisure - men (OECD Gender data (2020))</th>\n",
       "      <th>Avg Time Spent on Leisure</th>\n",
       "      <th>Time Spent</th>\n",
       "      <th>Population (historical estimates)</th>\n",
       "    </tr>\n",
       "  </thead>\n",
       "  <tbody>\n",
       "    <tr>\n",
       "      <td>0</td>\n",
       "      <td>Australia</td>\n",
       "      <td>AUS</td>\n",
       "      <td>2020</td>\n",
       "      <td>269</td>\n",
       "      <td>297</td>\n",
       "      <td>283.0</td>\n",
       "      <td>0.196528</td>\n",
       "      <td>25499881</td>\n",
       "    </tr>\n",
       "    <tr>\n",
       "      <td>1</td>\n",
       "      <td>Austria</td>\n",
       "      <td>AUT</td>\n",
       "      <td>2020</td>\n",
       "      <td>274</td>\n",
       "      <td>308</td>\n",
       "      <td>291.0</td>\n",
       "      <td>0.202083</td>\n",
       "      <td>9006400</td>\n",
       "    </tr>\n",
       "    <tr>\n",
       "      <td>2</td>\n",
       "      <td>Belgium</td>\n",
       "      <td>BEL</td>\n",
       "      <td>2020</td>\n",
       "      <td>317</td>\n",
       "      <td>365</td>\n",
       "      <td>341.0</td>\n",
       "      <td>0.236806</td>\n",
       "      <td>11589616</td>\n",
       "    </tr>\n",
       "    <tr>\n",
       "      <td>3</td>\n",
       "      <td>Canada</td>\n",
       "      <td>CAN</td>\n",
       "      <td>2020</td>\n",
       "      <td>260</td>\n",
       "      <td>298</td>\n",
       "      <td>279.0</td>\n",
       "      <td>0.193750</td>\n",
       "      <td>37742157</td>\n",
       "    </tr>\n",
       "    <tr>\n",
       "      <td>4</td>\n",
       "      <td>China</td>\n",
       "      <td>CHN</td>\n",
       "      <td>2020</td>\n",
       "      <td>211</td>\n",
       "      <td>248</td>\n",
       "      <td>229.5</td>\n",
       "      <td>0.159375</td>\n",
       "      <td>1439323774</td>\n",
       "    </tr>\n",
       "  </tbody>\n",
       "</table>\n",
       "</div>"
      ],
      "text/plain": [
       "      Entity Code  Year  \\\n",
       "0  Australia  AUS  2020   \n",
       "1    Austria  AUT  2020   \n",
       "2    Belgium  BEL  2020   \n",
       "3     Canada  CAN  2020   \n",
       "4      China  CHN  2020   \n",
       "\n",
       "   Minutes spent on leisure - women (OECD Gender data (2020))  \\\n",
       "0                                                269            \n",
       "1                                                274            \n",
       "2                                                317            \n",
       "3                                                260            \n",
       "4                                                211            \n",
       "\n",
       "   Minutes spent on leisure - men (OECD Gender data (2020))  \\\n",
       "0                                                297          \n",
       "1                                                308          \n",
       "2                                                365          \n",
       "3                                                298          \n",
       "4                                                248          \n",
       "\n",
       "   Avg Time Spent on Leisure  Time Spent  Population (historical estimates)  \n",
       "0                      283.0    0.196528                           25499881  \n",
       "1                      291.0    0.202083                            9006400  \n",
       "2                      341.0    0.236806                           11589616  \n",
       "3                      279.0    0.193750                           37742157  \n",
       "4                      229.5    0.159375                         1439323774  "
      ]
     },
     "execution_count": 30,
     "metadata": {},
     "output_type": "execute_result"
    }
   ],
   "source": [
    "Leisure_Data.head()"
   ]
  },
  {
   "cell_type": "code",
   "execution_count": 31,
   "metadata": {},
   "outputs": [],
   "source": [
    "Leisure_Data.rename(columns={'Entity': 'country'}, inplace=True)"
   ]
  },
  {
   "cell_type": "code",
   "execution_count": 32,
   "metadata": {},
   "outputs": [],
   "source": [
    "Leisure_Data = Leisure_Data.drop(['Code','Year','Minutes spent on leisure - women (OECD Gender data (2020))','Minutes spent on leisure - men (OECD Gender data (2020))','Avg Time Spent on Leisure','Population (historical estimates)'], axis = 1)\n",
    "    \n",
    "    "
   ]
  },
  {
   "cell_type": "code",
   "execution_count": 33,
   "metadata": {},
   "outputs": [
    {
     "data": {
      "text/html": [
       "<div>\n",
       "<style scoped>\n",
       "    .dataframe tbody tr th:only-of-type {\n",
       "        vertical-align: middle;\n",
       "    }\n",
       "\n",
       "    .dataframe tbody tr th {\n",
       "        vertical-align: top;\n",
       "    }\n",
       "\n",
       "    .dataframe thead th {\n",
       "        text-align: right;\n",
       "    }\n",
       "</style>\n",
       "<table border=\"1\" class=\"dataframe\">\n",
       "  <thead>\n",
       "    <tr style=\"text-align: right;\">\n",
       "      <th></th>\n",
       "      <th>country</th>\n",
       "      <th>Time Spent</th>\n",
       "    </tr>\n",
       "  </thead>\n",
       "  <tbody>\n",
       "    <tr>\n",
       "      <td>0</td>\n",
       "      <td>Australia</td>\n",
       "      <td>0.196528</td>\n",
       "    </tr>\n",
       "    <tr>\n",
       "      <td>1</td>\n",
       "      <td>Austria</td>\n",
       "      <td>0.202083</td>\n",
       "    </tr>\n",
       "    <tr>\n",
       "      <td>2</td>\n",
       "      <td>Belgium</td>\n",
       "      <td>0.236806</td>\n",
       "    </tr>\n",
       "    <tr>\n",
       "      <td>3</td>\n",
       "      <td>Canada</td>\n",
       "      <td>0.193750</td>\n",
       "    </tr>\n",
       "    <tr>\n",
       "      <td>4</td>\n",
       "      <td>China</td>\n",
       "      <td>0.159375</td>\n",
       "    </tr>\n",
       "  </tbody>\n",
       "</table>\n",
       "</div>"
      ],
      "text/plain": [
       "     country  Time Spent\n",
       "0  Australia    0.196528\n",
       "1    Austria    0.202083\n",
       "2    Belgium    0.236806\n",
       "3     Canada    0.193750\n",
       "4      China    0.159375"
      ]
     },
     "execution_count": 33,
     "metadata": {},
     "output_type": "execute_result"
    }
   ],
   "source": [
    "Leisure_Data.head()"
   ]
  },
  {
   "cell_type": "code",
   "execution_count": 34,
   "metadata": {},
   "outputs": [
    {
     "ename": "ValueError",
     "evalue": "Length mismatch: Expected axis has 7 elements, new values have 2 elements",
     "output_type": "error",
     "traceback": [
      "\u001b[1;31m---------------------------------------------------------------------------\u001b[0m",
      "\u001b[1;31mValueError\u001b[0m                                Traceback (most recent call last)",
      "\u001b[1;32m<ipython-input-34-7e58ef907d18>\u001b[0m in \u001b[0;36m<module>\u001b[1;34m\u001b[0m\n\u001b[1;32m----> 1\u001b[1;33m \u001b[0mpol_stab\u001b[0m\u001b[1;33m.\u001b[0m\u001b[0mcolumns\u001b[0m\u001b[1;33m=\u001b[0m \u001b[1;33m[\u001b[0m\u001b[1;34m'country'\u001b[0m\u001b[1;33m,\u001b[0m\u001b[1;34m'Pol_Rank'\u001b[0m\u001b[1;33m]\u001b[0m\u001b[1;33m\u001b[0m\u001b[1;33m\u001b[0m\u001b[0m\n\u001b[0m",
      "\u001b[1;32m~\\Anaconda3\\lib\\site-packages\\pandas\\core\\generic.py\u001b[0m in \u001b[0;36m__setattr__\u001b[1;34m(self, name, value)\u001b[0m\n\u001b[0;32m   5190\u001b[0m         \u001b[1;32mtry\u001b[0m\u001b[1;33m:\u001b[0m\u001b[1;33m\u001b[0m\u001b[1;33m\u001b[0m\u001b[0m\n\u001b[0;32m   5191\u001b[0m             \u001b[0mobject\u001b[0m\u001b[1;33m.\u001b[0m\u001b[0m__getattribute__\u001b[0m\u001b[1;33m(\u001b[0m\u001b[0mself\u001b[0m\u001b[1;33m,\u001b[0m \u001b[0mname\u001b[0m\u001b[1;33m)\u001b[0m\u001b[1;33m\u001b[0m\u001b[1;33m\u001b[0m\u001b[0m\n\u001b[1;32m-> 5192\u001b[1;33m             \u001b[1;32mreturn\u001b[0m \u001b[0mobject\u001b[0m\u001b[1;33m.\u001b[0m\u001b[0m__setattr__\u001b[0m\u001b[1;33m(\u001b[0m\u001b[0mself\u001b[0m\u001b[1;33m,\u001b[0m \u001b[0mname\u001b[0m\u001b[1;33m,\u001b[0m \u001b[0mvalue\u001b[0m\u001b[1;33m)\u001b[0m\u001b[1;33m\u001b[0m\u001b[1;33m\u001b[0m\u001b[0m\n\u001b[0m\u001b[0;32m   5193\u001b[0m         \u001b[1;32mexcept\u001b[0m \u001b[0mAttributeError\u001b[0m\u001b[1;33m:\u001b[0m\u001b[1;33m\u001b[0m\u001b[1;33m\u001b[0m\u001b[0m\n\u001b[0;32m   5194\u001b[0m             \u001b[1;32mpass\u001b[0m\u001b[1;33m\u001b[0m\u001b[1;33m\u001b[0m\u001b[0m\n",
      "\u001b[1;32mpandas\\_libs\\properties.pyx\u001b[0m in \u001b[0;36mpandas._libs.properties.AxisProperty.__set__\u001b[1;34m()\u001b[0m\n",
      "\u001b[1;32m~\\Anaconda3\\lib\\site-packages\\pandas\\core\\generic.py\u001b[0m in \u001b[0;36m_set_axis\u001b[1;34m(self, axis, labels)\u001b[0m\n\u001b[0;32m    688\u001b[0m \u001b[1;33m\u001b[0m\u001b[0m\n\u001b[0;32m    689\u001b[0m     \u001b[1;32mdef\u001b[0m \u001b[0m_set_axis\u001b[0m\u001b[1;33m(\u001b[0m\u001b[0mself\u001b[0m\u001b[1;33m,\u001b[0m \u001b[0maxis\u001b[0m\u001b[1;33m,\u001b[0m \u001b[0mlabels\u001b[0m\u001b[1;33m)\u001b[0m\u001b[1;33m:\u001b[0m\u001b[1;33m\u001b[0m\u001b[1;33m\u001b[0m\u001b[0m\n\u001b[1;32m--> 690\u001b[1;33m         \u001b[0mself\u001b[0m\u001b[1;33m.\u001b[0m\u001b[0m_data\u001b[0m\u001b[1;33m.\u001b[0m\u001b[0mset_axis\u001b[0m\u001b[1;33m(\u001b[0m\u001b[0maxis\u001b[0m\u001b[1;33m,\u001b[0m \u001b[0mlabels\u001b[0m\u001b[1;33m)\u001b[0m\u001b[1;33m\u001b[0m\u001b[1;33m\u001b[0m\u001b[0m\n\u001b[0m\u001b[0;32m    691\u001b[0m         \u001b[0mself\u001b[0m\u001b[1;33m.\u001b[0m\u001b[0m_clear_item_cache\u001b[0m\u001b[1;33m(\u001b[0m\u001b[1;33m)\u001b[0m\u001b[1;33m\u001b[0m\u001b[1;33m\u001b[0m\u001b[0m\n\u001b[0;32m    692\u001b[0m \u001b[1;33m\u001b[0m\u001b[0m\n",
      "\u001b[1;32m~\\Anaconda3\\lib\\site-packages\\pandas\\core\\internals\\managers.py\u001b[0m in \u001b[0;36mset_axis\u001b[1;34m(self, axis, new_labels)\u001b[0m\n\u001b[0;32m    181\u001b[0m             raise ValueError(\n\u001b[0;32m    182\u001b[0m                 \u001b[1;34m\"Length mismatch: Expected axis has {old} elements, new \"\u001b[0m\u001b[1;33m\u001b[0m\u001b[1;33m\u001b[0m\u001b[0m\n\u001b[1;32m--> 183\u001b[1;33m                 \u001b[1;34m\"values have {new} elements\"\u001b[0m\u001b[1;33m.\u001b[0m\u001b[0mformat\u001b[0m\u001b[1;33m(\u001b[0m\u001b[0mold\u001b[0m\u001b[1;33m=\u001b[0m\u001b[0mold_len\u001b[0m\u001b[1;33m,\u001b[0m \u001b[0mnew\u001b[0m\u001b[1;33m=\u001b[0m\u001b[0mnew_len\u001b[0m\u001b[1;33m)\u001b[0m\u001b[1;33m\u001b[0m\u001b[1;33m\u001b[0m\u001b[0m\n\u001b[0m\u001b[0;32m    184\u001b[0m             )\n\u001b[0;32m    185\u001b[0m \u001b[1;33m\u001b[0m\u001b[0m\n",
      "\u001b[1;31mValueError\u001b[0m: Length mismatch: Expected axis has 7 elements, new values have 2 elements"
     ]
    }
   ],
   "source": [
    "pol_stab.columns= ['country','Pol_Rank']"
   ]
  },
  {
   "cell_type": "code",
   "execution_count": 145,
   "metadata": {},
   "outputs": [
    {
     "data": {
      "text/html": [
       "<div>\n",
       "<style scoped>\n",
       "    .dataframe tbody tr th:only-of-type {\n",
       "        vertical-align: middle;\n",
       "    }\n",
       "\n",
       "    .dataframe tbody tr th {\n",
       "        vertical-align: top;\n",
       "    }\n",
       "\n",
       "    .dataframe thead th {\n",
       "        text-align: right;\n",
       "    }\n",
       "</style>\n",
       "<table border=\"1\" class=\"dataframe\">\n",
       "  <thead>\n",
       "    <tr style=\"text-align: right;\">\n",
       "      <th></th>\n",
       "      <th>Country ISO3</th>\n",
       "      <th>Country Name</th>\n",
       "      <th>Indicator Id</th>\n",
       "      <th>Indicator</th>\n",
       "      <th>Subindicator Type</th>\n",
       "      <th>2019</th>\n",
       "      <th>Score</th>\n",
       "    </tr>\n",
       "  </thead>\n",
       "  <tbody>\n",
       "    <tr>\n",
       "      <td>0</td>\n",
       "      <td>AUS</td>\n",
       "      <td>Australia</td>\n",
       "      <td>379</td>\n",
       "      <td>Political Stability No Violence</td>\n",
       "      <td>Rank</td>\n",
       "      <td>88.57143</td>\n",
       "      <td>0.885714</td>\n",
       "    </tr>\n",
       "    <tr>\n",
       "      <td>1</td>\n",
       "      <td>AUT</td>\n",
       "      <td>Austria</td>\n",
       "      <td>379</td>\n",
       "      <td>Political Stability No Violence</td>\n",
       "      <td>Rank</td>\n",
       "      <td>82.85714</td>\n",
       "      <td>0.828571</td>\n",
       "    </tr>\n",
       "    <tr>\n",
       "      <td>2</td>\n",
       "      <td>AZE</td>\n",
       "      <td>Azerbaijan</td>\n",
       "      <td>379</td>\n",
       "      <td>Political Stability No Violence</td>\n",
       "      <td>Rank</td>\n",
       "      <td>21.90476</td>\n",
       "      <td>0.219048</td>\n",
       "    </tr>\n",
       "    <tr>\n",
       "      <td>3</td>\n",
       "      <td>BLR</td>\n",
       "      <td>Belarus</td>\n",
       "      <td>379</td>\n",
       "      <td>Political Stability No Violence</td>\n",
       "      <td>Rank</td>\n",
       "      <td>56.66667</td>\n",
       "      <td>0.566667</td>\n",
       "    </tr>\n",
       "    <tr>\n",
       "      <td>4</td>\n",
       "      <td>BEL</td>\n",
       "      <td>Belgium</td>\n",
       "      <td>379</td>\n",
       "      <td>Political Stability No Violence</td>\n",
       "      <td>Rank</td>\n",
       "      <td>61.90476</td>\n",
       "      <td>0.619048</td>\n",
       "    </tr>\n",
       "  </tbody>\n",
       "</table>\n",
       "</div>"
      ],
      "text/plain": [
       "  Country ISO3 Country Name  Indicator Id                        Indicator  \\\n",
       "0          AUS    Australia           379  Political Stability No Violence   \n",
       "1          AUT      Austria           379  Political Stability No Violence   \n",
       "2          AZE   Azerbaijan           379  Political Stability No Violence   \n",
       "3          BLR      Belarus           379  Political Stability No Violence   \n",
       "4          BEL      Belgium           379  Political Stability No Violence   \n",
       "\n",
       "  Subindicator Type      2019     Score  \n",
       "0              Rank  88.57143  0.885714  \n",
       "1              Rank  82.85714  0.828571  \n",
       "2              Rank  21.90476  0.219048  \n",
       "3              Rank  56.66667  0.566667  \n",
       "4              Rank  61.90476  0.619048  "
      ]
     },
     "execution_count": 145,
     "metadata": {},
     "output_type": "execute_result"
    }
   ],
   "source": []
  },
  {
   "cell_type": "code",
   "execution_count": 35,
   "metadata": {},
   "outputs": [],
   "source": [
    "pol_stab = pol_stab.drop(['Country ISO3','Indicator Id','Indicator','Subindicator Type','2019'], axis = 1)"
   ]
  },
  {
   "cell_type": "code",
   "execution_count": 147,
   "metadata": {},
   "outputs": [
    {
     "data": {
      "text/html": [
       "<div>\n",
       "<style scoped>\n",
       "    .dataframe tbody tr th:only-of-type {\n",
       "        vertical-align: middle;\n",
       "    }\n",
       "\n",
       "    .dataframe tbody tr th {\n",
       "        vertical-align: top;\n",
       "    }\n",
       "\n",
       "    .dataframe thead th {\n",
       "        text-align: right;\n",
       "    }\n",
       "</style>\n",
       "<table border=\"1\" class=\"dataframe\">\n",
       "  <thead>\n",
       "    <tr style=\"text-align: right;\">\n",
       "      <th></th>\n",
       "      <th>Country Name</th>\n",
       "      <th>Score</th>\n",
       "    </tr>\n",
       "  </thead>\n",
       "  <tbody>\n",
       "    <tr>\n",
       "      <td>0</td>\n",
       "      <td>Australia</td>\n",
       "      <td>0.885714</td>\n",
       "    </tr>\n",
       "    <tr>\n",
       "      <td>1</td>\n",
       "      <td>Austria</td>\n",
       "      <td>0.828571</td>\n",
       "    </tr>\n",
       "    <tr>\n",
       "      <td>2</td>\n",
       "      <td>Azerbaijan</td>\n",
       "      <td>0.219048</td>\n",
       "    </tr>\n",
       "    <tr>\n",
       "      <td>3</td>\n",
       "      <td>Belarus</td>\n",
       "      <td>0.566667</td>\n",
       "    </tr>\n",
       "    <tr>\n",
       "      <td>4</td>\n",
       "      <td>Belgium</td>\n",
       "      <td>0.619048</td>\n",
       "    </tr>\n",
       "  </tbody>\n",
       "</table>\n",
       "</div>"
      ],
      "text/plain": [
       "  Country Name     Score\n",
       "0    Australia  0.885714\n",
       "1      Austria  0.828571\n",
       "2   Azerbaijan  0.219048\n",
       "3      Belarus  0.566667\n",
       "4      Belgium  0.619048"
      ]
     },
     "execution_count": 147,
     "metadata": {},
     "output_type": "execute_result"
    }
   ],
   "source": [
    "pol_stab.head()"
   ]
  },
  {
   "cell_type": "code",
   "execution_count": 36,
   "metadata": {},
   "outputs": [],
   "source": [
    "pol_stab.columns= ['country','Pol_Rank']"
   ]
  },
  {
   "cell_type": "code",
   "execution_count": 37,
   "metadata": {},
   "outputs": [
    {
     "data": {
      "text/html": [
       "<div>\n",
       "<style scoped>\n",
       "    .dataframe tbody tr th:only-of-type {\n",
       "        vertical-align: middle;\n",
       "    }\n",
       "\n",
       "    .dataframe tbody tr th {\n",
       "        vertical-align: top;\n",
       "    }\n",
       "\n",
       "    .dataframe thead th {\n",
       "        text-align: right;\n",
       "    }\n",
       "</style>\n",
       "<table border=\"1\" class=\"dataframe\">\n",
       "  <thead>\n",
       "    <tr style=\"text-align: right;\">\n",
       "      <th></th>\n",
       "      <th>country</th>\n",
       "      <th>Pol_Rank</th>\n",
       "    </tr>\n",
       "  </thead>\n",
       "  <tbody>\n",
       "    <tr>\n",
       "      <td>0</td>\n",
       "      <td>Australia</td>\n",
       "      <td>0.885714</td>\n",
       "    </tr>\n",
       "    <tr>\n",
       "      <td>1</td>\n",
       "      <td>Austria</td>\n",
       "      <td>0.828571</td>\n",
       "    </tr>\n",
       "    <tr>\n",
       "      <td>2</td>\n",
       "      <td>Azerbaijan</td>\n",
       "      <td>0.219048</td>\n",
       "    </tr>\n",
       "    <tr>\n",
       "      <td>3</td>\n",
       "      <td>Belarus</td>\n",
       "      <td>0.566667</td>\n",
       "    </tr>\n",
       "    <tr>\n",
       "      <td>4</td>\n",
       "      <td>Belgium</td>\n",
       "      <td>0.619048</td>\n",
       "    </tr>\n",
       "  </tbody>\n",
       "</table>\n",
       "</div>"
      ],
      "text/plain": [
       "      country  Pol_Rank\n",
       "0   Australia  0.885714\n",
       "1     Austria  0.828571\n",
       "2  Azerbaijan  0.219048\n",
       "3     Belarus  0.566667\n",
       "4     Belgium  0.619048"
      ]
     },
     "execution_count": 37,
     "metadata": {},
     "output_type": "execute_result"
    }
   ],
   "source": [
    "pol_stab.head()"
   ]
  },
  {
   "cell_type": "code",
   "execution_count": 38,
   "metadata": {},
   "outputs": [
    {
     "data": {
      "text/html": [
       "<div>\n",
       "<style scoped>\n",
       "    .dataframe tbody tr th:only-of-type {\n",
       "        vertical-align: middle;\n",
       "    }\n",
       "\n",
       "    .dataframe tbody tr th {\n",
       "        vertical-align: top;\n",
       "    }\n",
       "\n",
       "    .dataframe thead th {\n",
       "        text-align: right;\n",
       "    }\n",
       "</style>\n",
       "<table border=\"1\" class=\"dataframe\">\n",
       "  <thead>\n",
       "    <tr style=\"text-align: right;\">\n",
       "      <th></th>\n",
       "      <th>country</th>\n",
       "      <th>totalScore</th>\n",
       "      <th>Relative Score</th>\n",
       "      <th>readingScore</th>\n",
       "      <th>mathScore</th>\n",
       "      <th>scienceScore</th>\n",
       "    </tr>\n",
       "  </thead>\n",
       "  <tbody>\n",
       "    <tr>\n",
       "      <td>0</td>\n",
       "      <td>Argentina</td>\n",
       "      <td>1600</td>\n",
       "      <td>0.888889</td>\n",
       "      <td>515</td>\n",
       "      <td>514</td>\n",
       "      <td>571.0</td>\n",
       "    </tr>\n",
       "    <tr>\n",
       "      <td>1</td>\n",
       "      <td>Australia</td>\n",
       "      <td>1556</td>\n",
       "      <td>0.864444</td>\n",
       "      <td>515</td>\n",
       "      <td>514</td>\n",
       "      <td>527.0</td>\n",
       "    </tr>\n",
       "    <tr>\n",
       "      <td>2</td>\n",
       "      <td>Austria</td>\n",
       "      <td>1460</td>\n",
       "      <td>0.811111</td>\n",
       "      <td>470</td>\n",
       "      <td>496</td>\n",
       "      <td>494.0</td>\n",
       "    </tr>\n",
       "    <tr>\n",
       "      <td>3</td>\n",
       "      <td>Azerbaijan</td>\n",
       "      <td>1166</td>\n",
       "      <td>0.647778</td>\n",
       "      <td>362</td>\n",
       "      <td>431</td>\n",
       "      <td>373.0</td>\n",
       "    </tr>\n",
       "    <tr>\n",
       "      <td>4</td>\n",
       "      <td>Belgium</td>\n",
       "      <td>1528</td>\n",
       "      <td>0.848889</td>\n",
       "      <td>506</td>\n",
       "      <td>515</td>\n",
       "      <td>507.0</td>\n",
       "    </tr>\n",
       "  </tbody>\n",
       "</table>\n",
       "</div>"
      ],
      "text/plain": [
       "      country  totalScore  Relative Score  readingScore  mathScore  \\\n",
       "0   Argentina        1600        0.888889           515        514   \n",
       "1   Australia        1556        0.864444           515        514   \n",
       "2     Austria        1460        0.811111           470        496   \n",
       "3  Azerbaijan        1166        0.647778           362        431   \n",
       "4     Belgium        1528        0.848889           506        515   \n",
       "\n",
       "   scienceScore  \n",
       "0         571.0  \n",
       "1         527.0  \n",
       "2         494.0  \n",
       "3         373.0  \n",
       "4         507.0  "
      ]
     },
     "execution_count": 38,
     "metadata": {},
     "output_type": "execute_result"
    }
   ],
   "source": [
    "edu.head()"
   ]
  },
  {
   "cell_type": "code",
   "execution_count": 39,
   "metadata": {},
   "outputs": [],
   "source": [
    "edu = edu.drop(['totalScore','readingScore','mathScore','scienceScore'], axis = 1)"
   ]
  },
  {
   "cell_type": "code",
   "execution_count": 152,
   "metadata": {},
   "outputs": [
    {
     "data": {
      "text/html": [
       "<div>\n",
       "<style scoped>\n",
       "    .dataframe tbody tr th:only-of-type {\n",
       "        vertical-align: middle;\n",
       "    }\n",
       "\n",
       "    .dataframe tbody tr th {\n",
       "        vertical-align: top;\n",
       "    }\n",
       "\n",
       "    .dataframe thead th {\n",
       "        text-align: right;\n",
       "    }\n",
       "</style>\n",
       "<table border=\"1\" class=\"dataframe\">\n",
       "  <thead>\n",
       "    <tr style=\"text-align: right;\">\n",
       "      <th></th>\n",
       "      <th>country</th>\n",
       "      <th>Relative Score</th>\n",
       "    </tr>\n",
       "  </thead>\n",
       "  <tbody>\n",
       "    <tr>\n",
       "      <td>0</td>\n",
       "      <td>Argentina</td>\n",
       "      <td>0.888889</td>\n",
       "    </tr>\n",
       "    <tr>\n",
       "      <td>1</td>\n",
       "      <td>Australia</td>\n",
       "      <td>0.864444</td>\n",
       "    </tr>\n",
       "    <tr>\n",
       "      <td>2</td>\n",
       "      <td>Austria</td>\n",
       "      <td>0.811111</td>\n",
       "    </tr>\n",
       "    <tr>\n",
       "      <td>3</td>\n",
       "      <td>Azerbaijan</td>\n",
       "      <td>0.647778</td>\n",
       "    </tr>\n",
       "    <tr>\n",
       "      <td>4</td>\n",
       "      <td>Belgium</td>\n",
       "      <td>0.848889</td>\n",
       "    </tr>\n",
       "  </tbody>\n",
       "</table>\n",
       "</div>"
      ],
      "text/plain": [
       "      country  Relative Score\n",
       "0   Argentina        0.888889\n",
       "1   Australia        0.864444\n",
       "2     Austria        0.811111\n",
       "3  Azerbaijan        0.647778\n",
       "4     Belgium        0.848889"
      ]
     },
     "execution_count": 152,
     "metadata": {},
     "output_type": "execute_result"
    }
   ],
   "source": [
    "edu.head()"
   ]
  },
  {
   "cell_type": "code",
   "execution_count": 40,
   "metadata": {},
   "outputs": [],
   "source": [
    "# merging gender development data and education data\n",
    "\n",
    "output1 = pd.merge(gender_dev,edu,\n",
    "                   on='country', \n",
    "                   how='inner')"
   ]
  },
  {
   "cell_type": "code",
   "execution_count": 41,
   "metadata": {},
   "outputs": [
    {
     "name": "stdout",
     "output_type": "stream",
     "text": [
      "                 country Gender Development Index  Relative Score\n",
      "0              Argentina                    0.982        0.888889\n",
      "1              Australia                    0.976        0.864444\n",
      "2                Austria                    0.943        0.811111\n",
      "3             Azerbaijan                    0.942        0.647778\n",
      "4                Belarus                    1.021        0.961667\n",
      "..                   ...                      ...             ...\n",
      "59               Ukraine                    1.003        0.653333\n",
      "60  United Arab Emirates                    0.954        0.765556\n",
      "61        United Kingdom                    0.965        0.833333\n",
      "62         United States                    0.995        0.827222\n",
      "63               Uruguay                    1.018        0.711111\n",
      "\n",
      "[64 rows x 3 columns]\n"
     ]
    }
   ],
   "source": [
    "print(output1)"
   ]
  },
  {
   "cell_type": "code",
   "execution_count": 43,
   "metadata": {},
   "outputs": [],
   "source": [
    "# merging religion and Living standard data\n",
    "\n",
    "output2 = pd.merge(Liv_standard,religion,\n",
    "                   on='country', \n",
    "                   how='inner')"
   ]
  },
  {
   "cell_type": "code",
   "execution_count": 44,
   "metadata": {},
   "outputs": [],
   "source": [
    "#merging religion, gender development, education, Living quality data\n",
    "\n",
    "data1 =  pd.merge(output1,output2,\n",
    "                   on='country', \n",
    "                   how='inner')"
   ]
  },
  {
   "cell_type": "code",
   "execution_count": 45,
   "metadata": {},
   "outputs": [
    {
     "data": {
      "text/html": [
       "<div>\n",
       "<style scoped>\n",
       "    .dataframe tbody tr th:only-of-type {\n",
       "        vertical-align: middle;\n",
       "    }\n",
       "\n",
       "    .dataframe tbody tr th {\n",
       "        vertical-align: top;\n",
       "    }\n",
       "\n",
       "    .dataframe thead th {\n",
       "        text-align: right;\n",
       "    }\n",
       "</style>\n",
       "<table border=\"1\" class=\"dataframe\">\n",
       "  <thead>\n",
       "    <tr style=\"text-align: right;\">\n",
       "      <th></th>\n",
       "      <th>country</th>\n",
       "      <th>Gender Development Index</th>\n",
       "      <th>Relative Score</th>\n",
       "      <th>Avg Living standards</th>\n",
       "      <th>gpi_score</th>\n",
       "    </tr>\n",
       "  </thead>\n",
       "  <tbody>\n",
       "    <tr>\n",
       "      <td>0</td>\n",
       "      <td>Argentina</td>\n",
       "      <td>0.982</td>\n",
       "      <td>0.888889</td>\n",
       "      <td>1.1421</td>\n",
       "      <td>1.763</td>\n",
       "    </tr>\n",
       "    <tr>\n",
       "      <td>1</td>\n",
       "      <td>Australia</td>\n",
       "      <td>0.976</td>\n",
       "      <td>0.864444</td>\n",
       "      <td>1.8503</td>\n",
       "      <td>1.494</td>\n",
       "    </tr>\n",
       "    <tr>\n",
       "      <td>2</td>\n",
       "      <td>Austria</td>\n",
       "      <td>0.943</td>\n",
       "      <td>0.811111</td>\n",
       "      <td>1.8168</td>\n",
       "      <td>1.328</td>\n",
       "    </tr>\n",
       "    <tr>\n",
       "      <td>3</td>\n",
       "      <td>Azerbaijan</td>\n",
       "      <td>0.942</td>\n",
       "      <td>0.647778</td>\n",
       "      <td>1.0269</td>\n",
       "      <td>2.360</td>\n",
       "    </tr>\n",
       "    <tr>\n",
       "      <td>4</td>\n",
       "      <td>Belarus</td>\n",
       "      <td>1.021</td>\n",
       "      <td>0.961667</td>\n",
       "      <td>1.3352</td>\n",
       "      <td>2.208</td>\n",
       "    </tr>\n",
       "  </tbody>\n",
       "</table>\n",
       "</div>"
      ],
      "text/plain": [
       "      country Gender Development Index  Relative Score  Avg Living standards  \\\n",
       "0   Argentina                    0.982        0.888889                1.1421   \n",
       "1   Australia                    0.976        0.864444                1.8503   \n",
       "2     Austria                    0.943        0.811111                1.8168   \n",
       "3  Azerbaijan                    0.942        0.647778                1.0269   \n",
       "4     Belarus                    1.021        0.961667                1.3352   \n",
       "\n",
       "   gpi_score  \n",
       "0      1.763  \n",
       "1      1.494  \n",
       "2      1.328  \n",
       "3      2.360  \n",
       "4      2.208  "
      ]
     },
     "execution_count": 45,
     "metadata": {},
     "output_type": "execute_result"
    }
   ],
   "source": [
    "data1.head()"
   ]
  },
  {
   "cell_type": "code",
   "execution_count": 46,
   "metadata": {},
   "outputs": [],
   "source": [
    "# merging political stability data\n",
    "\n",
    "final_data =  pd.merge(data1,pol_stab,\n",
    "                   on='country', \n",
    "                   how='inner')"
   ]
  },
  {
   "cell_type": "code",
   "execution_count": 47,
   "metadata": {},
   "outputs": [
    {
     "data": {
      "text/html": [
       "<div>\n",
       "<style scoped>\n",
       "    .dataframe tbody tr th:only-of-type {\n",
       "        vertical-align: middle;\n",
       "    }\n",
       "\n",
       "    .dataframe tbody tr th {\n",
       "        vertical-align: top;\n",
       "    }\n",
       "\n",
       "    .dataframe thead th {\n",
       "        text-align: right;\n",
       "    }\n",
       "</style>\n",
       "<table border=\"1\" class=\"dataframe\">\n",
       "  <thead>\n",
       "    <tr style=\"text-align: right;\">\n",
       "      <th></th>\n",
       "      <th>country</th>\n",
       "      <th>Gender Development Index</th>\n",
       "      <th>Relative Score</th>\n",
       "      <th>Avg Living standards</th>\n",
       "      <th>gpi_score</th>\n",
       "      <th>Pol_Rank</th>\n",
       "    </tr>\n",
       "  </thead>\n",
       "  <tbody>\n",
       "    <tr>\n",
       "      <td>0</td>\n",
       "      <td>Australia</td>\n",
       "      <td>0.976</td>\n",
       "      <td>0.864444</td>\n",
       "      <td>1.8503</td>\n",
       "      <td>1.494</td>\n",
       "      <td>0.885714</td>\n",
       "    </tr>\n",
       "    <tr>\n",
       "      <td>1</td>\n",
       "      <td>Austria</td>\n",
       "      <td>0.943</td>\n",
       "      <td>0.811111</td>\n",
       "      <td>1.8168</td>\n",
       "      <td>1.328</td>\n",
       "      <td>0.828571</td>\n",
       "    </tr>\n",
       "    <tr>\n",
       "      <td>2</td>\n",
       "      <td>Azerbaijan</td>\n",
       "      <td>0.942</td>\n",
       "      <td>0.647778</td>\n",
       "      <td>1.0269</td>\n",
       "      <td>2.360</td>\n",
       "      <td>0.219048</td>\n",
       "    </tr>\n",
       "    <tr>\n",
       "      <td>3</td>\n",
       "      <td>Belarus</td>\n",
       "      <td>1.021</td>\n",
       "      <td>0.961667</td>\n",
       "      <td>1.3352</td>\n",
       "      <td>2.208</td>\n",
       "      <td>0.566667</td>\n",
       "    </tr>\n",
       "    <tr>\n",
       "      <td>4</td>\n",
       "      <td>Brazil</td>\n",
       "      <td>0.997</td>\n",
       "      <td>0.668333</td>\n",
       "      <td>1.0528</td>\n",
       "      <td>2.017</td>\n",
       "      <td>0.247619</td>\n",
       "    </tr>\n",
       "  </tbody>\n",
       "</table>\n",
       "</div>"
      ],
      "text/plain": [
       "      country Gender Development Index  Relative Score  Avg Living standards  \\\n",
       "0   Australia                    0.976        0.864444                1.8503   \n",
       "1     Austria                    0.943        0.811111                1.8168   \n",
       "2  Azerbaijan                    0.942        0.647778                1.0269   \n",
       "3     Belarus                    1.021        0.961667                1.3352   \n",
       "4      Brazil                    0.997        0.668333                1.0528   \n",
       "\n",
       "   gpi_score  Pol_Rank  \n",
       "0      1.494  0.885714  \n",
       "1      1.328  0.828571  \n",
       "2      2.360  0.219048  \n",
       "3      2.208  0.566667  \n",
       "4      2.017  0.247619  "
      ]
     },
     "execution_count": 47,
     "metadata": {},
     "output_type": "execute_result"
    }
   ],
   "source": [
    "final_data.head()"
   ]
  },
  {
   "cell_type": "code",
   "execution_count": 48,
   "metadata": {},
   "outputs": [
    {
     "data": {
      "text/html": [
       "        <script type=\"text/javascript\">\n",
       "        window.PlotlyConfig = {MathJaxConfig: 'local'};\n",
       "        if (window.MathJax) {MathJax.Hub.Config({SVG: {font: \"STIX-Web\"}});}\n",
       "        if (typeof require !== 'undefined') {\n",
       "        require.undef(\"plotly\");\n",
       "        requirejs.config({\n",
       "            paths: {\n",
       "                'plotly': ['https://cdn.plot.ly/plotly-latest.min']\n",
       "            }\n",
       "        });\n",
       "        require(['plotly'], function(Plotly) {\n",
       "            window._Plotly = Plotly;\n",
       "        });\n",
       "        }\n",
       "        </script>\n",
       "        "
      ]
     },
     "metadata": {},
     "output_type": "display_data"
    }
   ],
   "source": [
    "\n",
    "import matplotlib.pyplot as plt\n",
    "import seaborn as sns\n",
    "import scipy as stats\n",
    "import math\n",
    "import matplotlib.pyplot as plt\n",
    "import matplotlib.gridspec as gridspec\n",
    "from plotly.offline import download_plotlyjs, init_notebook_mode, plot, iplot\n",
    "init_notebook_mode(connected=True)\n",
    "%matplotlib inline\n",
    "import plotly.graph_objs as go\n",
    "from sklearn import linear_model\n",
    "import statsmodels.api as sm"
   ]
  },
  {
   "cell_type": "code",
   "execution_count": 49,
   "metadata": {},
   "outputs": [
    {
     "name": "stdout",
     "output_type": "stream",
     "text": [
      "C:\\Users\\dassu\\NewData\\2019.csv\n"
     ]
    },
    {
     "data": {
      "text/html": [
       "<div>\n",
       "<style scoped>\n",
       "    .dataframe tbody tr th:only-of-type {\n",
       "        vertical-align: middle;\n",
       "    }\n",
       "\n",
       "    .dataframe tbody tr th {\n",
       "        vertical-align: top;\n",
       "    }\n",
       "\n",
       "    .dataframe thead th {\n",
       "        text-align: right;\n",
       "    }\n",
       "</style>\n",
       "<table border=\"1\" class=\"dataframe\">\n",
       "  <thead>\n",
       "    <tr style=\"text-align: right;\">\n",
       "      <th></th>\n",
       "      <th>Overall rank</th>\n",
       "      <th>Country or region</th>\n",
       "      <th>Score</th>\n",
       "      <th>GDP per capita</th>\n",
       "      <th>Social support</th>\n",
       "      <th>Healthy life expectancy</th>\n",
       "      <th>Freedom to make life choices</th>\n",
       "      <th>Generosity</th>\n",
       "      <th>Perceptions of corruption</th>\n",
       "    </tr>\n",
       "  </thead>\n",
       "  <tbody>\n",
       "    <tr>\n",
       "      <td>0</td>\n",
       "      <td>1</td>\n",
       "      <td>Finland</td>\n",
       "      <td>7.769</td>\n",
       "      <td>1.340</td>\n",
       "      <td>1.587</td>\n",
       "      <td>0.986</td>\n",
       "      <td>0.596</td>\n",
       "      <td>0.153</td>\n",
       "      <td>0.393</td>\n",
       "    </tr>\n",
       "    <tr>\n",
       "      <td>1</td>\n",
       "      <td>2</td>\n",
       "      <td>Denmark</td>\n",
       "      <td>7.600</td>\n",
       "      <td>1.383</td>\n",
       "      <td>1.573</td>\n",
       "      <td>0.996</td>\n",
       "      <td>0.592</td>\n",
       "      <td>0.252</td>\n",
       "      <td>0.410</td>\n",
       "    </tr>\n",
       "    <tr>\n",
       "      <td>2</td>\n",
       "      <td>3</td>\n",
       "      <td>Norway</td>\n",
       "      <td>7.554</td>\n",
       "      <td>1.488</td>\n",
       "      <td>1.582</td>\n",
       "      <td>1.028</td>\n",
       "      <td>0.603</td>\n",
       "      <td>0.271</td>\n",
       "      <td>0.341</td>\n",
       "    </tr>\n",
       "    <tr>\n",
       "      <td>3</td>\n",
       "      <td>4</td>\n",
       "      <td>Iceland</td>\n",
       "      <td>7.494</td>\n",
       "      <td>1.380</td>\n",
       "      <td>1.624</td>\n",
       "      <td>1.026</td>\n",
       "      <td>0.591</td>\n",
       "      <td>0.354</td>\n",
       "      <td>0.118</td>\n",
       "    </tr>\n",
       "    <tr>\n",
       "      <td>4</td>\n",
       "      <td>5</td>\n",
       "      <td>Netherlands</td>\n",
       "      <td>7.488</td>\n",
       "      <td>1.396</td>\n",
       "      <td>1.522</td>\n",
       "      <td>0.999</td>\n",
       "      <td>0.557</td>\n",
       "      <td>0.322</td>\n",
       "      <td>0.298</td>\n",
       "    </tr>\n",
       "  </tbody>\n",
       "</table>\n",
       "</div>"
      ],
      "text/plain": [
       "   Overall rank Country or region  Score  GDP per capita  Social support  \\\n",
       "0             1           Finland  7.769           1.340           1.587   \n",
       "1             2           Denmark  7.600           1.383           1.573   \n",
       "2             3            Norway  7.554           1.488           1.582   \n",
       "3             4           Iceland  7.494           1.380           1.624   \n",
       "4             5       Netherlands  7.488           1.396           1.522   \n",
       "\n",
       "   Healthy life expectancy  Freedom to make life choices  Generosity  \\\n",
       "0                    0.986                         0.596       0.153   \n",
       "1                    0.996                         0.592       0.252   \n",
       "2                    1.028                         0.603       0.271   \n",
       "3                    1.026                         0.591       0.354   \n",
       "4                    0.999                         0.557       0.322   \n",
       "\n",
       "   Perceptions of corruption  \n",
       "0                      0.393  \n",
       "1                      0.410  \n",
       "2                      0.341  \n",
       "3                      0.118  \n",
       "4                      0.298  "
      ]
     },
     "execution_count": 49,
     "metadata": {},
     "output_type": "execute_result"
    }
   ],
   "source": [
    "# Importing World Happiness 2019 to Jupyter Notebook\n",
    "\n",
    "\n",
    "\n",
    "filename = \"2019.csv\"\n",
    "\n",
    "# fullfilename =datapath + filename\n",
    "# happ_data =pd.read_csv(fullfilename)\n",
    "# happ_data.head()\n",
    "\n",
    "\n",
    "#Get the full file name including directory\n",
    "fullfilename = os.path.join(data_folder, filename)\n",
    "print(fullfilename)\n",
    "\n",
    "# fullfilename =datapath + filename\n",
    "happ_data =pd.read_csv(fullfilename)\n",
    "happ_data.head()"
   ]
  },
  {
   "cell_type": "code",
   "execution_count": 50,
   "metadata": {},
   "outputs": [],
   "source": [
    "happ_data = happ_data.drop(['Overall rank','Social support','Healthy life expectancy','Freedom to make life choices','Generosity',\n",
    "                           'Perceptions of corruption'], axis = 1)"
   ]
  },
  {
   "cell_type": "code",
   "execution_count": 51,
   "metadata": {},
   "outputs": [
    {
     "data": {
      "text/html": [
       "<div>\n",
       "<style scoped>\n",
       "    .dataframe tbody tr th:only-of-type {\n",
       "        vertical-align: middle;\n",
       "    }\n",
       "\n",
       "    .dataframe tbody tr th {\n",
       "        vertical-align: top;\n",
       "    }\n",
       "\n",
       "    .dataframe thead th {\n",
       "        text-align: right;\n",
       "    }\n",
       "</style>\n",
       "<table border=\"1\" class=\"dataframe\">\n",
       "  <thead>\n",
       "    <tr style=\"text-align: right;\">\n",
       "      <th></th>\n",
       "      <th>Country or region</th>\n",
       "      <th>Score</th>\n",
       "      <th>GDP per capita</th>\n",
       "    </tr>\n",
       "  </thead>\n",
       "  <tbody>\n",
       "    <tr>\n",
       "      <td>0</td>\n",
       "      <td>Finland</td>\n",
       "      <td>7.769</td>\n",
       "      <td>1.340</td>\n",
       "    </tr>\n",
       "    <tr>\n",
       "      <td>1</td>\n",
       "      <td>Denmark</td>\n",
       "      <td>7.600</td>\n",
       "      <td>1.383</td>\n",
       "    </tr>\n",
       "    <tr>\n",
       "      <td>2</td>\n",
       "      <td>Norway</td>\n",
       "      <td>7.554</td>\n",
       "      <td>1.488</td>\n",
       "    </tr>\n",
       "    <tr>\n",
       "      <td>3</td>\n",
       "      <td>Iceland</td>\n",
       "      <td>7.494</td>\n",
       "      <td>1.380</td>\n",
       "    </tr>\n",
       "    <tr>\n",
       "      <td>4</td>\n",
       "      <td>Netherlands</td>\n",
       "      <td>7.488</td>\n",
       "      <td>1.396</td>\n",
       "    </tr>\n",
       "  </tbody>\n",
       "</table>\n",
       "</div>"
      ],
      "text/plain": [
       "  Country or region  Score  GDP per capita\n",
       "0           Finland  7.769           1.340\n",
       "1           Denmark  7.600           1.383\n",
       "2            Norway  7.554           1.488\n",
       "3           Iceland  7.494           1.380\n",
       "4       Netherlands  7.488           1.396"
      ]
     },
     "execution_count": 51,
     "metadata": {},
     "output_type": "execute_result"
    }
   ],
   "source": [
    "happ_data.head()"
   ]
  },
  {
   "cell_type": "code",
   "execution_count": 52,
   "metadata": {},
   "outputs": [],
   "source": [
    "happ_data.columns= ['country','Score','GDP per capita']"
   ]
  },
  {
   "cell_type": "code",
   "execution_count": 53,
   "metadata": {},
   "outputs": [
    {
     "data": {
      "text/html": [
       "<div>\n",
       "<style scoped>\n",
       "    .dataframe tbody tr th:only-of-type {\n",
       "        vertical-align: middle;\n",
       "    }\n",
       "\n",
       "    .dataframe tbody tr th {\n",
       "        vertical-align: top;\n",
       "    }\n",
       "\n",
       "    .dataframe thead th {\n",
       "        text-align: right;\n",
       "    }\n",
       "</style>\n",
       "<table border=\"1\" class=\"dataframe\">\n",
       "  <thead>\n",
       "    <tr style=\"text-align: right;\">\n",
       "      <th></th>\n",
       "      <th>country</th>\n",
       "      <th>Score</th>\n",
       "      <th>GDP per capita</th>\n",
       "    </tr>\n",
       "  </thead>\n",
       "  <tbody>\n",
       "    <tr>\n",
       "      <td>0</td>\n",
       "      <td>Finland</td>\n",
       "      <td>7.769</td>\n",
       "      <td>1.340</td>\n",
       "    </tr>\n",
       "    <tr>\n",
       "      <td>1</td>\n",
       "      <td>Denmark</td>\n",
       "      <td>7.600</td>\n",
       "      <td>1.383</td>\n",
       "    </tr>\n",
       "    <tr>\n",
       "      <td>2</td>\n",
       "      <td>Norway</td>\n",
       "      <td>7.554</td>\n",
       "      <td>1.488</td>\n",
       "    </tr>\n",
       "    <tr>\n",
       "      <td>3</td>\n",
       "      <td>Iceland</td>\n",
       "      <td>7.494</td>\n",
       "      <td>1.380</td>\n",
       "    </tr>\n",
       "    <tr>\n",
       "      <td>4</td>\n",
       "      <td>Netherlands</td>\n",
       "      <td>7.488</td>\n",
       "      <td>1.396</td>\n",
       "    </tr>\n",
       "  </tbody>\n",
       "</table>\n",
       "</div>"
      ],
      "text/plain": [
       "       country  Score  GDP per capita\n",
       "0      Finland  7.769           1.340\n",
       "1      Denmark  7.600           1.383\n",
       "2       Norway  7.554           1.488\n",
       "3      Iceland  7.494           1.380\n",
       "4  Netherlands  7.488           1.396"
      ]
     },
     "execution_count": 53,
     "metadata": {},
     "output_type": "execute_result"
    }
   ],
   "source": [
    "happ_data.head()"
   ]
  },
  {
   "cell_type": "code",
   "execution_count": 54,
   "metadata": {},
   "outputs": [],
   "source": [
    "#merging 2019Happiness data to the final dataset\n",
    "\n",
    "Data =  pd.merge(happ_data,final_data,\n",
    "                   on='country', \n",
    "                   how='inner')"
   ]
  },
  {
   "cell_type": "code",
   "execution_count": 55,
   "metadata": {},
   "outputs": [],
   "source": [
    "#Merging Leisure data\n",
    "Data =  pd.merge(Data,Leisure_Data,\n",
    "                   on='country', \n",
    "                   how='inner')"
   ]
  },
  {
   "cell_type": "code",
   "execution_count": 56,
   "metadata": {},
   "outputs": [
    {
     "data": {
      "text/html": [
       "<div>\n",
       "<style scoped>\n",
       "    .dataframe tbody tr th:only-of-type {\n",
       "        vertical-align: middle;\n",
       "    }\n",
       "\n",
       "    .dataframe tbody tr th {\n",
       "        vertical-align: top;\n",
       "    }\n",
       "\n",
       "    .dataframe thead th {\n",
       "        text-align: right;\n",
       "    }\n",
       "</style>\n",
       "<table border=\"1\" class=\"dataframe\">\n",
       "  <thead>\n",
       "    <tr style=\"text-align: right;\">\n",
       "      <th></th>\n",
       "      <th>country</th>\n",
       "      <th>Score</th>\n",
       "      <th>GDP per capita</th>\n",
       "      <th>Gender Development Index</th>\n",
       "      <th>Relative Score</th>\n",
       "      <th>Avg Living standards</th>\n",
       "      <th>gpi_score</th>\n",
       "      <th>Pol_Rank</th>\n",
       "      <th>Time Spent</th>\n",
       "    </tr>\n",
       "  </thead>\n",
       "  <tbody>\n",
       "    <tr>\n",
       "      <td>0</td>\n",
       "      <td>Denmark</td>\n",
       "      <td>7.600</td>\n",
       "      <td>1.383</td>\n",
       "      <td>0.977</td>\n",
       "      <td>0.831667</td>\n",
       "      <td>1.9253</td>\n",
       "      <td>1.239</td>\n",
       "      <td>0.838095</td>\n",
       "      <td>0.229167</td>\n",
       "    </tr>\n",
       "    <tr>\n",
       "      <td>1</td>\n",
       "      <td>Norway</td>\n",
       "      <td>7.554</td>\n",
       "      <td>1.488</td>\n",
       "      <td>0.996</td>\n",
       "      <td>0.833889</td>\n",
       "      <td>1.7455</td>\n",
       "      <td>1.480</td>\n",
       "      <td>0.923809</td>\n",
       "      <td>0.255556</td>\n",
       "    </tr>\n",
       "    <tr>\n",
       "      <td>2</td>\n",
       "      <td>Netherlands</td>\n",
       "      <td>7.488</td>\n",
       "      <td>1.396</td>\n",
       "      <td>0.947</td>\n",
       "      <td>0.864444</td>\n",
       "      <td>1.8418</td>\n",
       "      <td>1.606</td>\n",
       "      <td>0.757143</td>\n",
       "      <td>0.218750</td>\n",
       "    </tr>\n",
       "    <tr>\n",
       "      <td>3</td>\n",
       "      <td>Sweden</td>\n",
       "      <td>7.343</td>\n",
       "      <td>1.387</td>\n",
       "      <td>0.999</td>\n",
       "      <td>0.825556</td>\n",
       "      <td>1.7218</td>\n",
       "      <td>1.419</td>\n",
       "      <td>0.866667</td>\n",
       "      <td>0.000000</td>\n",
       "    </tr>\n",
       "    <tr>\n",
       "      <td>4</td>\n",
       "      <td>New Zealand</td>\n",
       "      <td>7.307</td>\n",
       "      <td>1.303</td>\n",
       "      <td>0.961</td>\n",
       "      <td>0.873333</td>\n",
       "      <td>1.7822</td>\n",
       "      <td>1.239</td>\n",
       "      <td>0.971429</td>\n",
       "      <td>0.208681</td>\n",
       "    </tr>\n",
       "  </tbody>\n",
       "</table>\n",
       "</div>"
      ],
      "text/plain": [
       "       country  Score  GDP per capita Gender Development Index  \\\n",
       "0      Denmark  7.600           1.383                    0.977   \n",
       "1       Norway  7.554           1.488                    0.996   \n",
       "2  Netherlands  7.488           1.396                    0.947   \n",
       "3       Sweden  7.343           1.387                    0.999   \n",
       "4  New Zealand  7.307           1.303                    0.961   \n",
       "\n",
       "   Relative Score  Avg Living standards  gpi_score  Pol_Rank  Time Spent  \n",
       "0        0.831667                1.9253      1.239  0.838095    0.229167  \n",
       "1        0.833889                1.7455      1.480  0.923809    0.255556  \n",
       "2        0.864444                1.8418      1.606  0.757143    0.218750  \n",
       "3        0.825556                1.7218      1.419  0.866667    0.000000  \n",
       "4        0.873333                1.7822      1.239  0.971429    0.208681  "
      ]
     },
     "execution_count": 56,
     "metadata": {},
     "output_type": "execute_result"
    }
   ],
   "source": [
    "Data.head()"
   ]
  },
  {
   "cell_type": "code",
   "execution_count": 171,
   "metadata": {},
   "outputs": [],
   "source": [
    "Data = Data.dropna()    # Apply dropna() function"
   ]
  },
  {
   "cell_type": "code",
   "execution_count": 172,
   "metadata": {},
   "outputs": [
    {
     "name": "stdout",
     "output_type": "stream",
     "text": [
      "26\n"
     ]
    }
   ],
   "source": [
    "print(len(Data.index))"
   ]
  },
  {
   "cell_type": "code",
   "execution_count": 57,
   "metadata": {},
   "outputs": [],
   "source": [
    "# Gender Development Index was string changing to float\n",
    "\n",
    "Data['Gender Development Index'] = Data['Gender Development Index'].astype(float)"
   ]
  },
  {
   "cell_type": "code",
   "execution_count": 58,
   "metadata": {},
   "outputs": [
    {
     "data": {
      "image/png": "[encoded data removed]",
      "text/plain": [
       "<Figure size 720x720 with 2 Axes>"
      ]
     },
     "metadata": {
      "needs_background": "light"
     },
     "output_type": "display_data"
    }
   ],
   "source": [
    "# correlation matrix\n",
    "\n",
    "plt.figure(figsize=(10,10))\n",
    "corr = Data.drop(['country','Score'],axis = 1).corr()\n",
    "sns.heatmap(corr, cbar = True, square = True, annot=True, linewidths = .20, fmt='.2f',annot_kws={'size': 10}) \n",
    "\n",
    "plt.show()"
   ]
  },
  {
   "cell_type": "code",
   "execution_count": null,
   "metadata": {},
   "outputs": [],
   "source": []
  },
  {
   "cell_type": "code",
   "execution_count": 63,
   "metadata": {},
   "outputs": [
    {
     "data": {
      "text/plain": [
       "<seaborn.axisgrid.PairGrid at 0x1b6ea52e9c8>"
      ]
     },
     "execution_count": 63,
     "metadata": {},
     "output_type": "execute_result"
    },
    {
     "data": {
      "image/png": "[encoded data removed]",
      "text/plain": [
       "<Figure size 1260x1260 with 56 Axes>"
      ]
     },
     "metadata": {
      "needs_background": "light"
     },
     "output_type": "display_data"
    }
   ],
   "source": [
    "sns.pairplot(Data[['Score','GDP per capita','Gender Development Index','eduscore', 'lifeQualityRank',\n",
    "       'Rel_Rank', 'Pol_Rank']])"
   ]
  },
  {
   "cell_type": "code",
   "execution_count": null,
   "metadata": {},
   "outputs": [],
   "source": []
  },
  {
   "cell_type": "code",
   "execution_count": 175,
   "metadata": {},
   "outputs": [
    {
     "data": {
      "image/png": "[encoded data removed]",
      "text/plain": [
       "<Figure size 1440x1152 with 9 Axes>"
      ]
     },
     "metadata": {
      "needs_background": "light"
     },
     "output_type": "display_data"
    }
   ],
   "source": [
    "Data.hist(edgecolor = 'white', linewidth = 1, figsize = (20,16))\n",
    "plt.show()"
   ]
  },
  {
   "cell_type": "code",
   "execution_count": 59,
   "metadata": {},
   "outputs": [
    {
     "data": {
      "text/plain": [
       "<matplotlib.axes._subplots.AxesSubplot at 0x22fb0c3e2c8>"
      ]
     },
     "execution_count": 59,
     "metadata": {},
     "output_type": "execute_result"
    },
    {
     "data": {
      "image/png": "[encoded data removed]",
      "text/plain": [
       "<Figure size 864x576 with 1 Axes>"
      ]
     },
     "metadata": {
      "needs_background": "light"
     },
     "output_type": "display_data"
    }
   ],
   "source": [
    "plt.figure(figsize=(12,8))\n",
    "sns.regplot(x='GDP per capita',y='Score' ,data=Data)\n",
    "#so there is a linear relation between GDP & Happiness Score"
   ]
  },
  {
   "cell_type": "code",
   "execution_count": 60,
   "metadata": {},
   "outputs": [
    {
     "data": {
      "text/plain": [
       "<matplotlib.axes._subplots.AxesSubplot at 0x22fb0cce248>"
      ]
     },
     "execution_count": 60,
     "metadata": {},
     "output_type": "execute_result"
    },
    {
     "data": {
      "image/png": "[encoded data removed]",
      "text/plain": [
       "<Figure size 864x576 with 1 Axes>"
      ]
     },
     "metadata": {
      "needs_background": "light"
     },
     "output_type": "display_data"
    }
   ],
   "source": [
    "plt.figure(figsize=(12,8))\n",
    "sns.regplot(x='Time Spent',y='Score' ,data=Data)\n"
   ]
  },
  {
   "cell_type": "code",
   "execution_count": 179,
   "metadata": {},
   "outputs": [
    {
     "data": {
      "text/plain": [
       "<matplotlib.axes._subplots.AxesSubplot at 0x1797de55b48>"
      ]
     },
     "execution_count": 179,
     "metadata": {},
     "output_type": "execute_result"
    },
    {
     "data": {
      "image/png": "[encoded data removed]",
      "text/plain": [
       "<Figure size 864x576 with 1 Axes>"
      ]
     },
     "metadata": {
      "needs_background": "light"
     },
     "output_type": "display_data"
    }
   ],
   "source": [
    "plt.figure(figsize=(12,8))\n",
    "sns.regplot(x='Relative Score',y='Score' ,data=Data)\n",
    "#so there is a linear relation between education & Happiness Score"
   ]
  },
  {
   "cell_type": "code",
   "execution_count": 180,
   "metadata": {},
   "outputs": [
    {
     "data": {
      "text/plain": [
       "<matplotlib.axes._subplots.AxesSubplot at 0x1797df65308>"
      ]
     },
     "execution_count": 180,
     "metadata": {},
     "output_type": "execute_result"
    },
    {
     "data": {
      "image/png": "[encoded data removed]",
      "text/plain": [
       "<Figure size 864x576 with 1 Axes>"
      ]
     },
     "metadata": {
      "needs_background": "light"
     },
     "output_type": "display_data"
    }
   ],
   "source": [
    "plt.figure(figsize=(12,8))\n",
    "sns.regplot(x='Avg Living standards',y='Score' ,data=Data)\n",
    "#so there is a negative linear relation between Living standard & Happiness Score"
   ]
  },
  {
   "cell_type": "code",
   "execution_count": 181,
   "metadata": {},
   "outputs": [
    {
     "data": {
      "text/plain": [
       "<matplotlib.axes._subplots.AxesSubplot at 0x1797de93d08>"
      ]
     },
     "execution_count": 181,
     "metadata": {},
     "output_type": "execute_result"
    },
    {
     "data": {
      "image/png": "[encoded data removed]",
      "text/plain": [
       "<Figure size 864x576 with 1 Axes>"
      ]
     },
     "metadata": {
      "needs_background": "light"
     },
     "output_type": "display_data"
    }
   ],
   "source": [
    "plt.figure(figsize=(12,8))\n",
    "sns.regplot(x='gpi_score',y='Score' ,data=Data)\n",
    "# there is no positive linear relationship between religion and happiness score"
   ]
  },
  {
   "cell_type": "code",
   "execution_count": 182,
   "metadata": {},
   "outputs": [
    {
     "data": {
      "text/plain": [
       "<matplotlib.axes._subplots.AxesSubplot at 0x1797db83648>"
      ]
     },
     "execution_count": 182,
     "metadata": {},
     "output_type": "execute_result"
    },
    {
     "data": {
      "image/png": "[encoded data removed]",
      "text/plain": [
       "<Figure size 864x576 with 1 Axes>"
      ]
     },
     "metadata": {
      "needs_background": "light"
     },
     "output_type": "display_data"
    }
   ],
   "source": [
    "plt.figure(figsize=(12,8))\n",
    "sns.regplot(x='Pol_Rank',y='Score' ,data=Data)\n",
    "#there is a positive linear relationship between political stability and happiness score"
   ]
  },
  {
   "cell_type": "code",
   "execution_count": 183,
   "metadata": {},
   "outputs": [
    {
     "data": {
      "text/plain": [
       "<matplotlib.axes._subplots.AxesSubplot at 0x1797db66848>"
      ]
     },
     "execution_count": 183,
     "metadata": {},
     "output_type": "execute_result"
    },
    {
     "data": {
      "image/png": "[encoded data removed]",
      "text/plain": [
       "<Figure size 864x576 with 1 Axes>"
      ]
     },
     "metadata": {
      "needs_background": "light"
     },
     "output_type": "display_data"
    }
   ],
   "source": [
    "plt.figure(figsize=(12,8))\n",
    "sns.regplot(x='Gender Development Index',y='Score' ,data=Data)\n",
    "#there is a positive linear relationship between gender development and happiness score"
   ]
  },
  {
   "cell_type": "code",
   "execution_count": 3,
   "metadata": {},
   "outputs": [],
   "source": []
  },
  {
   "cell_type": "code",
   "execution_count": 184,
   "metadata": {},
   "outputs": [],
   "source": [
    "bar = Data.drop(['Score'],axis = 1)"
   ]
  },
  {
   "cell_type": "code",
   "execution_count": 185,
   "metadata": {},
   "outputs": [
    {
     "data": {
      "text/plain": [
       "<Figure size 1440x720 with 0 Axes>"
      ]
     },
     "metadata": {},
     "output_type": "display_data"
    },
    {
     "data": {
      "image/png": "[encoded data removed]",
      "text/plain": [
       "<Figure size 432x288 with 1 Axes>"
      ]
     },
     "metadata": {
      "needs_background": "light"
     },
     "output_type": "display_data"
    }
   ],
   "source": [
    "plt.figure(figsize=(20,10))\n",
    "\n",
    "bar.plot.barh(stacked=True, title='Bar', color=(\"orange\", \"cyan\",\"red\",\"yellow\",\"blue\",\"violet\"))\n",
    "\n",
    "# display the plotted Horizontal Bar Chart\n",
    "plt.show()"
   ]
  },
  {
   "cell_type": "code",
   "execution_count": 202,
   "metadata": {},
   "outputs": [],
   "source": [
    "bar.to_excel('sample_data.xlsx', sheet_name='sheet1', index=False)"
   ]
  },
  {
   "cell_type": "code",
   "execution_count": 186,
   "metadata": {},
   "outputs": [
    {
     "name": "stdout",
     "output_type": "stream",
     "text": [
      "country                      object\n",
      "Score                       float64\n",
      "GDP per capita              float64\n",
      "Gender Development Index    float64\n",
      "Relative Score              float64\n",
      "Avg Living standards        float64\n",
      "gpi_score                   float64\n",
      "Pol_Rank                    float64\n",
      "Time Spent                  float64\n",
      "dtype: object\n"
     ]
    }
   ],
   "source": [
    "datatypes = Data.dtypes\n",
    "print(datatypes)"
   ]
  },
  {
   "cell_type": "markdown",
   "metadata": {},
   "source": [
    "# Construct Model for Predicting Happiness"
   ]
  },
  {
   "cell_type": "code",
   "execution_count": 61,
   "metadata": {},
   "outputs": [],
   "source": [
    "X = Data.drop(['Score', 'country','Time Spent' ], axis=1)\n",
    "y = Data['Score']"
   ]
  },
  {
   "cell_type": "code",
   "execution_count": 188,
   "metadata": {},
   "outputs": [
    {
     "name": "stdout",
     "output_type": "stream",
     "text": [
      "    GDP per capita  Gender Development Index  Relative Score  \\\n",
      "0            1.383                     0.977        0.831667   \n",
      "1            1.488                     0.996        0.833889   \n",
      "2            1.396                     0.947        0.864444   \n",
      "3            1.387                     0.999        0.825556   \n",
      "4            1.303                     0.961        0.873333   \n",
      "5            1.365                     0.982        0.877778   \n",
      "6            1.376                     0.943        0.811111   \n",
      "7            1.372                     0.976        0.864444   \n",
      "8            1.333                     0.965        0.833333   \n",
      "9            1.499                     0.973        0.828333   \n",
      "10           1.373                     0.963        0.850000   \n",
      "11           1.433                     0.995        0.827222   \n",
      "12           1.070                     0.943        0.700000   \n",
      "13           1.324                     0.987        0.828333   \n",
      "14           1.294                     0.964        0.810000   \n",
      "15           1.206                     1.007        0.835000   \n",
      "16           1.238                     1.030        0.797778   \n",
      "17           1.258                     0.996        0.831111   \n",
      "18           1.237                     1.030        0.856111   \n",
      "19           1.327                     0.961        0.882222   \n",
      "20           1.201                     0.976        0.826111   \n",
      "21           1.221                     0.985        0.816111   \n",
      "22           1.183                     0.902        0.757222   \n",
      "23           1.181                     0.961        0.788333   \n",
      "24           0.960                     0.948        0.901667   \n",
      "25           0.755                     0.795        0.641667   \n",
      "\n",
      "    Avg Living standards  gpi_score  Pol_Rank  Time Spent  \n",
      "0                 1.9253      1.239  0.838095    0.229167  \n",
      "1                 1.7455      1.480  0.923809    0.255556  \n",
      "2                 1.8418      1.606  0.757143    0.218750  \n",
      "3                 1.7218      1.419  0.866667    0.000000  \n",
      "4                 1.7822      1.239  0.971429    0.208681  \n",
      "5                 1.5888      1.317  0.852381    0.193750  \n",
      "6                 1.8168      1.328  0.828571    0.202083  \n",
      "7                 1.8503      1.494  0.885714    0.196528  \n",
      "8                 1.6120      1.609  0.638095    0.000000  \n",
      "9                 1.5016      1.328  0.823809    0.217014  \n",
      "10                1.7725      1.424  0.666667    0.229861  \n",
      "11                1.6978      2.058  0.576190    0.000000  \n",
      "12                1.2065      2.445  0.209524    0.120139  \n",
      "13                1.5068      1.710  0.585714    0.204514  \n",
      "14                1.3897      1.690  0.609524    0.224653  \n",
      "15                1.2520      1.524  0.642857    0.198958  \n",
      "16                1.5977      1.741  0.752381    0.172569  \n",
      "17                1.6981      1.330  0.738095    0.215278  \n",
      "18                1.7599      1.715  0.680952    0.216319  \n",
      "19                1.6323      1.326  0.857143    0.193750  \n",
      "20                1.2840      1.476  0.714286    0.196181  \n",
      "21                1.6246      1.470  0.909524    0.169792  \n",
      "22                1.2640      2.344  0.100000    0.000000  \n",
      "23                1.3151      1.976  0.571429    0.238194  \n",
      "24                1.3229      2.321  0.400000    0.213889  \n",
      "25                1.0586      2.549  0.214286    0.175000  \n"
     ]
    }
   ],
   "source": [
    "print(X)"
   ]
  },
  {
   "cell_type": "code",
   "execution_count": 198,
   "metadata": {},
   "outputs": [],
   "source": [
    "##X = Data.drop(['GDP per capita','Score', 'country'], axis=1)"
   ]
  },
  {
   "cell_type": "code",
   "execution_count": 199,
   "metadata": {},
   "outputs": [
    {
     "name": "stdout",
     "output_type": "stream",
     "text": [
      "    Gender Development Index  eduscore  lifeQualityRank  Rel_Rank  Pol_Rank  \\\n",
      "0                      0.977      1497                1         2  83.80952   \n",
      "1                      0.996      1501               11        18  92.38095   \n",
      "2                      0.947      1556                5        28  75.71429   \n",
      "4                      0.961      1572                8         2  97.14286   \n",
      "5                      0.982      1580               21         4  85.23810   \n",
      "6                      0.943      1460                6         6  82.85714   \n",
      "7                      0.976      1556                4        22  88.57143   \n",
      "9                      0.973      1491               27         6  82.38095   \n",
      "10                     0.963      1530                9        15  66.66666   \n",
      "12                     0.943      1260               50       135  20.95238   \n",
      "13                     0.987      1491               26        40  58.57143   \n",
      "14                     0.964      1458               36        38  60.95238   \n",
      "15                     1.007      1503               46        24  64.28571   \n",
      "16                     1.030      1436               20        43  75.23810   \n",
      "17                     0.996      1496               14         8  73.80952   \n",
      "18                     1.030      1541               10        41  68.09524   \n",
      "19                     0.961      1588               17         5  85.71429   \n",
      "20                     0.976      1487               43        17  71.42857   \n",
      "21                     0.985      1469               18        16  90.95238   \n",
      "23                     0.961      1419               41        77  57.14286   \n",
      "24                     0.948      1623               39       127  40.00000   \n",
      "25                     0.795      1155               59       142  21.42857   \n",
      "\n",
      "    Avg Time Spent on Leisure  \n",
      "0                       330.0  \n",
      "1                       368.0  \n",
      "2                       315.0  \n",
      "4                       300.5  \n",
      "5                       279.0  \n",
      "6                       291.0  \n",
      "7                       283.0  \n",
      "9                       312.5  \n",
      "10                      331.0  \n",
      "12                      173.0  \n",
      "13                      294.5  \n",
      "14                      323.5  \n",
      "15                      286.5  \n",
      "16                      248.5  \n",
      "17                      310.0  \n",
      "18                      311.5  \n",
      "19                      279.0  \n",
      "20                      282.5  \n",
      "21                      244.5  \n",
      "23                      343.0  \n",
      "24                      308.0  \n",
      "25                      252.0  \n"
     ]
    }
   ],
   "source": [
    "#print(X)"
   ]
  },
  {
   "cell_type": "code",
   "execution_count": 63,
   "metadata": {},
   "outputs": [
    {
     "data": {
      "text/plain": [
       "LinearRegression(copy_X=True, fit_intercept=True, n_jobs=None, normalize=False)"
      ]
     },
     "execution_count": 63,
     "metadata": {},
     "output_type": "execute_result"
    }
   ],
   "source": [
    "regr = linear_model.LinearRegression()\n",
    "regr.fit(X, y)"
   ]
  },
  {
   "cell_type": "code",
   "execution_count": 65,
   "metadata": {},
   "outputs": [
    {
     "name": "stdout",
     "output_type": "stream",
     "text": [
      "Intercept: \n",
      " 2.615339649185021\n",
      "Coefficients: \n",
      " [ 4.17576962 -0.51592031 -2.86260146  1.24447058 -0.22961167 -0.31809624]\n"
     ]
    }
   ],
   "source": [
    "print('Intercept: \\n', regr.intercept_)\n",
    "print('Coefficients: \\n', regr.coef_)"
   ]
  },
  {
   "cell_type": "code",
   "execution_count": 66,
   "metadata": {},
   "outputs": [
    {
     "name": "stdout",
     "output_type": "stream",
     "text": [
      "                                 OLS Regression Results                                \n",
      "=======================================================================================\n",
      "Dep. Variable:                  Score   R-squared (uncentered):                   0.996\n",
      "Model:                            OLS   Adj. R-squared (uncentered):              0.994\n",
      "Method:                 Least Squares   F-statistic:                              758.7\n",
      "Date:                Thu, 18 Aug 2022   Prob (F-statistic):                    1.68e-22\n",
      "Time:                        00:27:07   Log-Likelihood:                         -14.968\n",
      "No. Observations:                  26   AIC:                                      41.94\n",
      "Df Residuals:                      20   BIC:                                      49.48\n",
      "Df Model:                           6                                                  \n",
      "Covariance Type:            nonrobust                                                  \n",
      "============================================================================================\n",
      "                               coef    std err          t      P>|t|      [0.025      0.975]\n",
      "--------------------------------------------------------------------------------------------\n",
      "GDP per capita               4.2989      1.088      3.951      0.001       2.029       6.568\n",
      "Gender Development Index     0.7390      2.751      0.269      0.791      -4.999       6.477\n",
      "Relative Score              -2.2142      2.544     -0.870      0.394      -7.521       3.093\n",
      "Avg Living standards         1.2522      0.735      1.703      0.104      -0.282       2.786\n",
      "gpi_score                    0.0983      0.542      0.181      0.858      -1.033       1.229\n",
      "Pol_Rank                    -0.0942      1.166     -0.081      0.936      -2.527       2.338\n",
      "==============================================================================\n",
      "Omnibus:                        1.316   Durbin-Watson:                   1.433\n",
      "Prob(Omnibus):                  0.518   Jarque-Bera (JB):                0.844\n",
      "Skew:                           0.439   Prob(JB):                        0.656\n",
      "Kurtosis:                       2.914   Cond. No.                         106.\n",
      "==============================================================================\n",
      "\n",
      "Warnings:\n",
      "[1] Standard Errors assume that the covariance matrix of the errors is correctly specified.\n"
     ]
    },
    {
     "name": "stderr",
     "output_type": "stream",
     "text": [
      "C:\\Users\\dassu\\Anaconda3\\lib\\site-packages\\numpy\\core\\fromnumeric.py:2389: FutureWarning:\n",
      "\n",
      "Method .ptp is deprecated and will be removed in a future version. Use numpy.ptp instead.\n",
      "\n"
     ]
    }
   ],
   "source": [
    "# with statsmodels\n",
    "x = sm.add_constant(X) # adding a constant\n",
    " \n",
    "model = sm.OLS(y, X).fit()\n",
    "predictions = model.predict(X) \n",
    " \n",
    "print_model = model.summary()\n",
    "print(print_model)"
   ]
  },
  {
   "cell_type": "code",
   "execution_count": 67,
   "metadata": {},
   "outputs": [],
   "source": [
    "from sklearn.model_selection import train_test_split\n",
    "X_train, X_test, y_train, y_test = train_test_split(X, y, test_size=0.33, random_state=42)"
   ]
  },
  {
   "cell_type": "code",
   "execution_count": 69,
   "metadata": {},
   "outputs": [
    {
     "name": "stdout",
     "output_type": "stream",
     "text": [
      "Standardized features\n",
      "\n",
      "[[ 0.72416408  0.42621373  0.93738177  0.10850488 -0.78037713  0.69378465]\n",
      " [ 0.92705322 -0.27048179  0.72490856  1.11060812 -0.05793642  0.31756979]\n",
      " [-1.20655515 -0.35010414 -1.89559424 -1.40574045  2.03939145 -1.8456658 ]\n",
      " [-0.31646086  0.92385339  0.25569692 -1.2255203  -0.2629196  -0.13388837]]\n"
     ]
    }
   ],
   "source": [
    "from sklearn.preprocessing import StandardScaler\n",
    "\n",
    "scaler = StandardScaler()\n",
    "\n",
    "scaler.fit(X_train)\n",
    "X_train = scaler.transform(X_train)\n",
    "X_test = scaler.transform(X_test)\n",
    "print('Standardized features\\n')\n",
    "print(str(X_train[:4]))"
   ]
  },
  {
   "cell_type": "code",
   "execution_count": 70,
   "metadata": {},
   "outputs": [],
   "source": [
    "from sklearn.linear_model import LinearRegression\n",
    "lm = LinearRegression()\n",
    "lm.fit(X_train, y_train)\n",
    "y_pred = lm.predict(X_test)"
   ]
  },
  {
   "cell_type": "code",
   "execution_count": 71,
   "metadata": {},
   "outputs": [
    {
     "data": {
      "text/html": [
       "<div>\n",
       "<style scoped>\n",
       "    .dataframe tbody tr th:only-of-type {\n",
       "        vertical-align: middle;\n",
       "    }\n",
       "\n",
       "    .dataframe tbody tr th {\n",
       "        vertical-align: top;\n",
       "    }\n",
       "\n",
       "    .dataframe thead th {\n",
       "        text-align: right;\n",
       "    }\n",
       "</style>\n",
       "<table border=\"1\" class=\"dataframe\">\n",
       "  <thead>\n",
       "    <tr style=\"text-align: right;\">\n",
       "      <th></th>\n",
       "      <th>Actual</th>\n",
       "      <th>Predict</th>\n",
       "      <th>Diff</th>\n",
       "    </tr>\n",
       "  </thead>\n",
       "  <tbody>\n",
       "    <tr>\n",
       "      <td>8</td>\n",
       "      <td>7.054</td>\n",
       "      <td>6.758317</td>\n",
       "      <td>0.295683</td>\n",
       "    </tr>\n",
       "    <tr>\n",
       "      <td>16</td>\n",
       "      <td>6.149</td>\n",
       "      <td>6.723184</td>\n",
       "      <td>-0.574184</td>\n",
       "    </tr>\n",
       "    <tr>\n",
       "      <td>0</td>\n",
       "      <td>7.600</td>\n",
       "      <td>7.168984</td>\n",
       "      <td>0.431016</td>\n",
       "    </tr>\n",
       "    <tr>\n",
       "      <td>24</td>\n",
       "      <td>4.722</td>\n",
       "      <td>3.883544</td>\n",
       "      <td>0.838456</td>\n",
       "    </tr>\n",
       "    <tr>\n",
       "      <td>11</td>\n",
       "      <td>6.892</td>\n",
       "      <td>7.855705</td>\n",
       "      <td>-0.963705</td>\n",
       "    </tr>\n",
       "  </tbody>\n",
       "</table>\n",
       "</div>"
      ],
      "text/plain": [
       "    Actual   Predict      Diff\n",
       "8    7.054  6.758317  0.295683\n",
       "16   6.149  6.723184 -0.574184\n",
       "0    7.600  7.168984  0.431016\n",
       "24   4.722  3.883544  0.838456\n",
       "11   6.892  7.855705 -0.963705"
      ]
     },
     "execution_count": 71,
     "metadata": {},
     "output_type": "execute_result"
    }
   ],
   "source": [
    "result_lm = pd.DataFrame({\n",
    "    'Actual':y_test,\n",
    "    'Predict':y_pred\n",
    "})\n",
    "result_lm['Diff'] = y_test - y_pred\n",
    "result_lm.head()"
   ]
  },
  {
   "cell_type": "code",
   "execution_count": 72,
   "metadata": {},
   "outputs": [
    {
     "data": {
      "text/plain": [
       "<matplotlib.axes._subplots.AxesSubplot at 0x22fb116f248>"
      ]
     },
     "execution_count": 72,
     "metadata": {},
     "output_type": "execute_result"
    },
    {
     "data": {
      "image/png": "[encoded data removed]",
      "text/plain": [
       "<Figure size 432x288 with 1 Axes>"
      ]
     },
     "metadata": {
      "needs_background": "light"
     },
     "output_type": "display_data"
    }
   ],
   "source": [
    "sns.regplot(x='Actual',y='Predict',data=result_lm)"
   ]
  },
  {
   "cell_type": "code",
   "execution_count": 73,
   "metadata": {},
   "outputs": [
    {
     "name": "stdout",
     "output_type": "stream",
     "text": [
      "MAE: 0.6507377025555376\n",
      "MSE: 0.5072215963731953\n",
      "RMSE: 0.7121949145937475\n"
     ]
    }
   ],
   "source": [
    "from sklearn import metrics\n",
    "print('MAE:', metrics.mean_absolute_error(y_test, y_pred))\n",
    "print('MSE:', metrics.mean_squared_error(y_test, y_pred))\n",
    "print('RMSE:', np.sqrt(metrics.mean_squared_error(y_test, y_pred)))"
   ]
  },
  {
   "cell_type": "code",
   "execution_count": 74,
   "metadata": {},
   "outputs": [
    {
     "name": "stderr",
     "output_type": "stream",
     "text": [
      "C:\\Users\\dassu\\Anaconda3\\lib\\site-packages\\sklearn\\ensemble\\forest.py:245: FutureWarning:\n",
      "\n",
      "The default value of n_estimators will change from 10 in version 0.20 to 100 in 0.22.\n",
      "\n"
     ]
    }
   ],
   "source": [
    "from sklearn.ensemble import RandomForestRegressor\n",
    "rf = RandomForestRegressor()\n",
    "rf.fit(X_train,y_train)\n",
    "y_pred = rf.predict(X_test)"
   ]
  },
  {
   "cell_type": "code",
   "execution_count": 75,
   "metadata": {},
   "outputs": [
    {
     "data": {
      "text/html": [
       "<div>\n",
       "<style scoped>\n",
       "    .dataframe tbody tr th:only-of-type {\n",
       "        vertical-align: middle;\n",
       "    }\n",
       "\n",
       "    .dataframe tbody tr th {\n",
       "        vertical-align: top;\n",
       "    }\n",
       "\n",
       "    .dataframe thead th {\n",
       "        text-align: right;\n",
       "    }\n",
       "</style>\n",
       "<table border=\"1\" class=\"dataframe\">\n",
       "  <thead>\n",
       "    <tr style=\"text-align: right;\">\n",
       "      <th></th>\n",
       "      <th>Actual</th>\n",
       "      <th>Predict</th>\n",
       "      <th>Diff</th>\n",
       "    </tr>\n",
       "  </thead>\n",
       "  <tbody>\n",
       "    <tr>\n",
       "      <td>8</td>\n",
       "      <td>7.054</td>\n",
       "      <td>6.6165</td>\n",
       "      <td>0.4375</td>\n",
       "    </tr>\n",
       "    <tr>\n",
       "      <td>16</td>\n",
       "      <td>6.149</td>\n",
       "      <td>5.9369</td>\n",
       "      <td>0.2121</td>\n",
       "    </tr>\n",
       "    <tr>\n",
       "      <td>0</td>\n",
       "      <td>7.600</td>\n",
       "      <td>7.2632</td>\n",
       "      <td>0.3368</td>\n",
       "    </tr>\n",
       "    <tr>\n",
       "      <td>24</td>\n",
       "      <td>4.722</td>\n",
       "      <td>6.0171</td>\n",
       "      <td>-1.2951</td>\n",
       "    </tr>\n",
       "    <tr>\n",
       "      <td>11</td>\n",
       "      <td>6.892</td>\n",
       "      <td>6.8070</td>\n",
       "      <td>0.0850</td>\n",
       "    </tr>\n",
       "  </tbody>\n",
       "</table>\n",
       "</div>"
      ],
      "text/plain": [
       "    Actual  Predict    Diff\n",
       "8    7.054   6.6165  0.4375\n",
       "16   6.149   5.9369  0.2121\n",
       "0    7.600   7.2632  0.3368\n",
       "24   4.722   6.0171 -1.2951\n",
       "11   6.892   6.8070  0.0850"
      ]
     },
     "execution_count": 75,
     "metadata": {},
     "output_type": "execute_result"
    }
   ],
   "source": [
    "result_rf = pd.DataFrame({\n",
    "    'Actual':y_test,\n",
    "    'Predict':y_pred\n",
    "})\n",
    "result_rf['Diff'] = y_test - y_pred\n",
    "result_rf.head()"
   ]
  },
  {
   "cell_type": "code",
   "execution_count": 76,
   "metadata": {},
   "outputs": [
    {
     "data": {
      "image/png": "[encoded data removed]",
      "text/plain": [
       "<Figure size 1152x576 with 1 Axes>"
      ]
     },
     "metadata": {
      "needs_background": "light"
     },
     "output_type": "display_data"
    }
   ],
   "source": [
    "plt.figure (figsize = (16, 8))\n",
    "sns.pointplot(x='Actual',y='Predict',data=result_rf, dodge = True, color=\"#bb3f3f\")\n",
    "plt.xticks(rotation = 90)\n",
    "plt.show()"
   ]
  },
  {
   "cell_type": "code",
   "execution_count": null,
   "metadata": {},
   "outputs": [],
   "source": []
  }
 ],
 "metadata": {
  "kernelspec": {
   "display_name": "Python 3",
   "language": "python",
   "name": "python3"
  },
  "language_info": {
   "codemirror_mode": {
    "name": "ipython",
    "version": 3
   },
   "file_extension": ".py",
   "mimetype": "text/x-python",
   "name": "python",
   "nbconvert_exporter": "python",
   "pygments_lexer": "ipython3",
   "version": "3.7.4"
  }
 },
 "nbformat": 4,
 "nbformat_minor": 2
}
